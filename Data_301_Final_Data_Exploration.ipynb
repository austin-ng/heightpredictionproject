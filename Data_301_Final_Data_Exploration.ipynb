{
  "nbformat": 4,
  "nbformat_minor": 0,
  "metadata": {
    "colab": {
      "name": "Data 301 Final: Data Exploration",
      "provenance": [],
      "collapsed_sections": []
    },
    "kernelspec": {
      "name": "python3",
      "display_name": "Python 3"
    }
  },
  "cells": [
    {
      "cell_type": "markdown",
      "metadata": {
        "id": "znPTkTBnUlaz",
        "colab_type": "text"
      },
      "source": [
        "In this notebook, we try to analyze how height correlates to various statistics for the 2018-2019 NBA players."
      ]
    },
    {
      "cell_type": "code",
      "metadata": {
        "id": "CfFtNOJ8S5r5",
        "colab_type": "code",
        "outputId": "4f999dd8-e55e-4ddc-940b-e6d4641e0eeb",
        "colab": {
          "base_uri": "https://localhost:8080/",
          "height": 541
        }
      },
      "source": [
        "import pandas as pd\n",
        "import numpy as np\n",
        "import matplotlib.pyplot as plt \n",
        "\n",
        "url = \"https://raw.githubusercontent.com/austin-ng/data301/master/finalproject/EQcsv/nbaseasonavgs.csv\"\n",
        "\n",
        "df_avgs = pd.read_csv(url)\n",
        "df_avgs.drop(\"Unnamed: 0\", axis=1, inplace=True)\n",
        "df_avgs"
      ],
      "execution_count": 0,
      "outputs": [
        {
          "output_type": "execute_result",
          "data": {
            "text/html": [
              "<div>\n",
              "<style scoped>\n",
              "    .dataframe tbody tr th:only-of-type {\n",
              "        vertical-align: middle;\n",
              "    }\n",
              "\n",
              "    .dataframe tbody tr th {\n",
              "        vertical-align: top;\n",
              "    }\n",
              "\n",
              "    .dataframe thead th {\n",
              "        text-align: right;\n",
              "    }\n",
              "</style>\n",
              "<table border=\"1\" class=\"dataframe\">\n",
              "  <thead>\n",
              "    <tr style=\"text-align: right;\">\n",
              "      <th></th>\n",
              "      <th>games_played</th>\n",
              "      <th>player_id</th>\n",
              "      <th>season</th>\n",
              "      <th>min</th>\n",
              "      <th>fgm</th>\n",
              "      <th>fga</th>\n",
              "      <th>fg3m</th>\n",
              "      <th>fg3a</th>\n",
              "      <th>ftm</th>\n",
              "      <th>fta</th>\n",
              "      <th>oreb</th>\n",
              "      <th>dreb</th>\n",
              "      <th>reb</th>\n",
              "      <th>ast</th>\n",
              "      <th>stl</th>\n",
              "      <th>blk</th>\n",
              "      <th>turnover</th>\n",
              "      <th>pf</th>\n",
              "      <th>pts</th>\n",
              "      <th>fg_pct</th>\n",
              "      <th>fg3_pct</th>\n",
              "      <th>ft_pct</th>\n",
              "      <th>player_name</th>\n",
              "      <th>player_height_ft</th>\n",
              "      <th>player_height_in</th>\n",
              "      <th>player_weight</th>\n",
              "      <th>player_position</th>\n",
              "      <th>height (cm)</th>\n",
              "      <th>minutes/gm</th>\n",
              "    </tr>\n",
              "  </thead>\n",
              "  <tbody>\n",
              "    <tr>\n",
              "      <th>0</th>\n",
              "      <td>80</td>\n",
              "      <td>3</td>\n",
              "      <td>2018</td>\n",
              "      <td>33:19</td>\n",
              "      <td>6.01</td>\n",
              "      <td>10.09</td>\n",
              "      <td>0.00</td>\n",
              "      <td>0.03</td>\n",
              "      <td>1.83</td>\n",
              "      <td>3.65</td>\n",
              "      <td>4.89</td>\n",
              "      <td>4.61</td>\n",
              "      <td>9.50</td>\n",
              "      <td>1.55</td>\n",
              "      <td>1.48</td>\n",
              "      <td>0.95</td>\n",
              "      <td>1.71</td>\n",
              "      <td>2.55</td>\n",
              "      <td>13.85</td>\n",
              "      <td>0.596</td>\n",
              "      <td>0.000</td>\n",
              "      <td>0.500</td>\n",
              "      <td>Steven Adams</td>\n",
              "      <td>7.0</td>\n",
              "      <td>0.0</td>\n",
              "      <td>265.0</td>\n",
              "      <td>C</td>\n",
              "      <td>213.36</td>\n",
              "      <td>33.316667</td>\n",
              "    </tr>\n",
              "    <tr>\n",
              "      <th>1</th>\n",
              "      <td>81</td>\n",
              "      <td>6</td>\n",
              "      <td>2018</td>\n",
              "      <td>33:10</td>\n",
              "      <td>8.44</td>\n",
              "      <td>16.28</td>\n",
              "      <td>0.12</td>\n",
              "      <td>0.52</td>\n",
              "      <td>4.31</td>\n",
              "      <td>5.09</td>\n",
              "      <td>3.11</td>\n",
              "      <td>6.09</td>\n",
              "      <td>9.20</td>\n",
              "      <td>2.40</td>\n",
              "      <td>0.53</td>\n",
              "      <td>1.32</td>\n",
              "      <td>1.78</td>\n",
              "      <td>2.21</td>\n",
              "      <td>21.32</td>\n",
              "      <td>0.519</td>\n",
              "      <td>0.238</td>\n",
              "      <td>0.847</td>\n",
              "      <td>LaMarcus Aldridge</td>\n",
              "      <td>6.0</td>\n",
              "      <td>11.0</td>\n",
              "      <td>260.0</td>\n",
              "      <td>F</td>\n",
              "      <td>210.82</td>\n",
              "      <td>33.166667</td>\n",
              "    </tr>\n",
              "    <tr>\n",
              "      <th>2</th>\n",
              "      <td>48</td>\n",
              "      <td>8</td>\n",
              "      <td>2018</td>\n",
              "      <td>8:40</td>\n",
              "      <td>1.40</td>\n",
              "      <td>3.71</td>\n",
              "      <td>0.67</td>\n",
              "      <td>2.06</td>\n",
              "      <td>0.94</td>\n",
              "      <td>1.25</td>\n",
              "      <td>0.06</td>\n",
              "      <td>0.44</td>\n",
              "      <td>0.50</td>\n",
              "      <td>0.52</td>\n",
              "      <td>0.10</td>\n",
              "      <td>0.13</td>\n",
              "      <td>0.69</td>\n",
              "      <td>0.98</td>\n",
              "      <td>4.40</td>\n",
              "      <td>0.376</td>\n",
              "      <td>0.323</td>\n",
              "      <td>0.750</td>\n",
              "      <td>Grayson Allen</td>\n",
              "      <td>6.0</td>\n",
              "      <td>5.0</td>\n",
              "      <td>198.0</td>\n",
              "      <td>G</td>\n",
              "      <td>195.58</td>\n",
              "      <td>8.666667</td>\n",
              "    </tr>\n",
              "    <tr>\n",
              "      <th>3</th>\n",
              "      <td>80</td>\n",
              "      <td>9</td>\n",
              "      <td>2018</td>\n",
              "      <td>26:12</td>\n",
              "      <td>4.19</td>\n",
              "      <td>7.10</td>\n",
              "      <td>0.08</td>\n",
              "      <td>0.56</td>\n",
              "      <td>2.46</td>\n",
              "      <td>3.48</td>\n",
              "      <td>2.40</td>\n",
              "      <td>6.01</td>\n",
              "      <td>8.41</td>\n",
              "      <td>1.38</td>\n",
              "      <td>0.55</td>\n",
              "      <td>1.50</td>\n",
              "      <td>1.30</td>\n",
              "      <td>2.30</td>\n",
              "      <td>10.91</td>\n",
              "      <td>0.590</td>\n",
              "      <td>0.133</td>\n",
              "      <td>0.709</td>\n",
              "      <td>Jarrett Allen</td>\n",
              "      <td>6.0</td>\n",
              "      <td>11.0</td>\n",
              "      <td>237.0</td>\n",
              "      <td>C</td>\n",
              "      <td>210.82</td>\n",
              "      <td>26.200000</td>\n",
              "    </tr>\n",
              "    <tr>\n",
              "      <th>4</th>\n",
              "      <td>82</td>\n",
              "      <td>10</td>\n",
              "      <td>2018</td>\n",
              "      <td>27:56</td>\n",
              "      <td>3.13</td>\n",
              "      <td>7.23</td>\n",
              "      <td>1.17</td>\n",
              "      <td>3.41</td>\n",
              "      <td>1.83</td>\n",
              "      <td>2.11</td>\n",
              "      <td>1.37</td>\n",
              "      <td>6.07</td>\n",
              "      <td>7.44</td>\n",
              "      <td>1.27</td>\n",
              "      <td>0.83</td>\n",
              "      <td>0.40</td>\n",
              "      <td>0.88</td>\n",
              "      <td>1.74</td>\n",
              "      <td>9.27</td>\n",
              "      <td>0.433</td>\n",
              "      <td>0.343</td>\n",
              "      <td>0.867</td>\n",
              "      <td>Al-Farouq Aminu</td>\n",
              "      <td>6.0</td>\n",
              "      <td>9.0</td>\n",
              "      <td>220.0</td>\n",
              "      <td>F</td>\n",
              "      <td>205.74</td>\n",
              "      <td>27.933333</td>\n",
              "    </tr>\n",
              "    <tr>\n",
              "      <th>...</th>\n",
              "      <td>...</td>\n",
              "      <td>...</td>\n",
              "      <td>...</td>\n",
              "      <td>...</td>\n",
              "      <td>...</td>\n",
              "      <td>...</td>\n",
              "      <td>...</td>\n",
              "      <td>...</td>\n",
              "      <td>...</td>\n",
              "      <td>...</td>\n",
              "      <td>...</td>\n",
              "      <td>...</td>\n",
              "      <td>...</td>\n",
              "      <td>...</td>\n",
              "      <td>...</td>\n",
              "      <td>...</td>\n",
              "      <td>...</td>\n",
              "      <td>...</td>\n",
              "      <td>...</td>\n",
              "      <td>...</td>\n",
              "      <td>...</td>\n",
              "      <td>...</td>\n",
              "      <td>...</td>\n",
              "      <td>...</td>\n",
              "      <td>...</td>\n",
              "      <td>...</td>\n",
              "      <td>...</td>\n",
              "      <td>...</td>\n",
              "      <td>...</td>\n",
              "    </tr>\n",
              "    <tr>\n",
              "      <th>205</th>\n",
              "      <td>3</td>\n",
              "      <td>1988</td>\n",
              "      <td>2018</td>\n",
              "      <td>4:15</td>\n",
              "      <td>1.00</td>\n",
              "      <td>2.00</td>\n",
              "      <td>0.00</td>\n",
              "      <td>0.00</td>\n",
              "      <td>0.00</td>\n",
              "      <td>0.67</td>\n",
              "      <td>0.67</td>\n",
              "      <td>0.33</td>\n",
              "      <td>1.00</td>\n",
              "      <td>0.33</td>\n",
              "      <td>0.00</td>\n",
              "      <td>0.33</td>\n",
              "      <td>1.00</td>\n",
              "      <td>2.00</td>\n",
              "      <td>2.00</td>\n",
              "      <td>0.500</td>\n",
              "      <td>0.000</td>\n",
              "      <td>0.000</td>\n",
              "      <td>Donatas Motiejunas</td>\n",
              "      <td>NaN</td>\n",
              "      <td>NaN</td>\n",
              "      <td>NaN</td>\n",
              "      <td>NaN</td>\n",
              "      <td>NaN</td>\n",
              "      <td>4.250000</td>\n",
              "    </tr>\n",
              "    <tr>\n",
              "      <th>206</th>\n",
              "      <td>7</td>\n",
              "      <td>2106</td>\n",
              "      <td>2018</td>\n",
              "      <td>6:10</td>\n",
              "      <td>0.43</td>\n",
              "      <td>1.00</td>\n",
              "      <td>0.14</td>\n",
              "      <td>0.14</td>\n",
              "      <td>0.00</td>\n",
              "      <td>0.00</td>\n",
              "      <td>0.57</td>\n",
              "      <td>2.29</td>\n",
              "      <td>2.86</td>\n",
              "      <td>0.57</td>\n",
              "      <td>0.14</td>\n",
              "      <td>0.14</td>\n",
              "      <td>0.71</td>\n",
              "      <td>1.29</td>\n",
              "      <td>1.00</td>\n",
              "      <td>0.429</td>\n",
              "      <td>1.000</td>\n",
              "      <td>0.000</td>\n",
              "      <td>Eric Moreland</td>\n",
              "      <td>NaN</td>\n",
              "      <td>NaN</td>\n",
              "      <td>NaN</td>\n",
              "      <td>NaN</td>\n",
              "      <td>NaN</td>\n",
              "      <td>6.166667</td>\n",
              "    </tr>\n",
              "    <tr>\n",
              "      <th>207</th>\n",
              "      <td>30</td>\n",
              "      <td>2158</td>\n",
              "      <td>2018</td>\n",
              "      <td>13:14</td>\n",
              "      <td>0.87</td>\n",
              "      <td>2.10</td>\n",
              "      <td>0.30</td>\n",
              "      <td>0.93</td>\n",
              "      <td>0.43</td>\n",
              "      <td>0.50</td>\n",
              "      <td>0.23</td>\n",
              "      <td>1.37</td>\n",
              "      <td>1.60</td>\n",
              "      <td>0.97</td>\n",
              "      <td>0.77</td>\n",
              "      <td>0.10</td>\n",
              "      <td>0.57</td>\n",
              "      <td>1.27</td>\n",
              "      <td>2.47</td>\n",
              "      <td>0.413</td>\n",
              "      <td>0.321</td>\n",
              "      <td>0.867</td>\n",
              "      <td>Patrick McCaw</td>\n",
              "      <td>6.0</td>\n",
              "      <td>7.0</td>\n",
              "      <td>185.0</td>\n",
              "      <td>NaN</td>\n",
              "      <td>200.66</td>\n",
              "      <td>13.233333</td>\n",
              "    </tr>\n",
              "    <tr>\n",
              "      <th>208</th>\n",
              "      <td>40</td>\n",
              "      <td>2175</td>\n",
              "      <td>2018</td>\n",
              "      <td>24:28</td>\n",
              "      <td>2.95</td>\n",
              "      <td>6.30</td>\n",
              "      <td>1.85</td>\n",
              "      <td>4.45</td>\n",
              "      <td>1.40</td>\n",
              "      <td>1.78</td>\n",
              "      <td>0.63</td>\n",
              "      <td>2.88</td>\n",
              "      <td>3.50</td>\n",
              "      <td>1.00</td>\n",
              "      <td>0.53</td>\n",
              "      <td>0.28</td>\n",
              "      <td>0.88</td>\n",
              "      <td>2.00</td>\n",
              "      <td>9.15</td>\n",
              "      <td>0.468</td>\n",
              "      <td>0.416</td>\n",
              "      <td>0.789</td>\n",
              "      <td>Danuel House Jr.</td>\n",
              "      <td>6.0</td>\n",
              "      <td>7.0</td>\n",
              "      <td>220.0</td>\n",
              "      <td>NaN</td>\n",
              "      <td>200.66</td>\n",
              "      <td>24.466667</td>\n",
              "    </tr>\n",
              "    <tr>\n",
              "      <th>209</th>\n",
              "      <td>22</td>\n",
              "      <td>2215</td>\n",
              "      <td>2018</td>\n",
              "      <td>3:03</td>\n",
              "      <td>0.50</td>\n",
              "      <td>1.18</td>\n",
              "      <td>0.45</td>\n",
              "      <td>0.95</td>\n",
              "      <td>0.14</td>\n",
              "      <td>0.18</td>\n",
              "      <td>0.05</td>\n",
              "      <td>0.18</td>\n",
              "      <td>0.23</td>\n",
              "      <td>0.05</td>\n",
              "      <td>0.05</td>\n",
              "      <td>0.05</td>\n",
              "      <td>0.05</td>\n",
              "      <td>0.23</td>\n",
              "      <td>1.59</td>\n",
              "      <td>0.423</td>\n",
              "      <td>0.476</td>\n",
              "      <td>0.750</td>\n",
              "      <td>Malcolm Miller</td>\n",
              "      <td>NaN</td>\n",
              "      <td>NaN</td>\n",
              "      <td>NaN</td>\n",
              "      <td>NaN</td>\n",
              "      <td>NaN</td>\n",
              "      <td>3.050000</td>\n",
              "    </tr>\n",
              "  </tbody>\n",
              "</table>\n",
              "<p>210 rows × 29 columns</p>\n",
              "</div>"
            ],
            "text/plain": [
              "     games_played  player_id  season  ... player_position  height (cm)  minutes/gm\n",
              "0              80          3    2018  ...               C       213.36   33.316667\n",
              "1              81          6    2018  ...               F       210.82   33.166667\n",
              "2              48          8    2018  ...               G       195.58    8.666667\n",
              "3              80          9    2018  ...               C       210.82   26.200000\n",
              "4              82         10    2018  ...               F       205.74   27.933333\n",
              "..            ...        ...     ...  ...             ...          ...         ...\n",
              "205             3       1988    2018  ...             NaN          NaN    4.250000\n",
              "206             7       2106    2018  ...             NaN          NaN    6.166667\n",
              "207            30       2158    2018  ...             NaN       200.66   13.233333\n",
              "208            40       2175    2018  ...             NaN       200.66   24.466667\n",
              "209            22       2215    2018  ...             NaN          NaN    3.050000\n",
              "\n",
              "[210 rows x 29 columns]"
            ]
          },
          "metadata": {
            "tags": []
          },
          "execution_count": 1
        }
      ]
    },
    {
      "cell_type": "markdown",
      "metadata": {
        "id": "5dlElp2gUmkj",
        "colab_type": "text"
      },
      "source": [
        "First, let's see if the height of the players in our dataset follows an intuitive distribution."
      ]
    },
    {
      "cell_type": "code",
      "metadata": {
        "id": "qR1NKUSKUVKu",
        "colab_type": "code",
        "outputId": "308c8afc-1e09-4982-e91b-1faf865715ea",
        "colab": {
          "base_uri": "https://localhost:8080/",
          "height": 391
        }
      },
      "source": [
        "df_avgs.boxplot(\"height (cm)\", figsize=(8, 6))"
      ],
      "execution_count": 0,
      "outputs": [
        {
          "output_type": "execute_result",
          "data": {
            "text/plain": [
              "<matplotlib.axes._subplots.AxesSubplot at 0x7f27ee66b390>"
            ]
          },
          "metadata": {
            "tags": []
          },
          "execution_count": 2
        },
        {
          "output_type": "display_data",
          "data": {
            "image/png": "[encoded data removed]",
            "text/plain": [
              "<Figure size 576x432 with 1 Axes>"
            ]
          },
          "metadata": {
            "tags": []
          }
        }
      ]
    },
    {
      "cell_type": "code",
      "metadata": {
        "id": "TED5H-eWUWEt",
        "colab_type": "code",
        "outputId": "47c11b31-4f5b-47d8-9dc1-fd86176d0b10",
        "colab": {
          "base_uri": "https://localhost:8080/",
          "height": 421
        }
      },
      "source": [
        "df_avgs[\"height (cm)\"].plot.density(title=\"Distribution of NBA Player Heights\",\n",
        "                                    figsize=(8, 6))\n",
        "plt.gca().set_xlabel(\"Height (cm)\")"
      ],
      "execution_count": 0,
      "outputs": [
        {
          "output_type": "execute_result",
          "data": {
            "text/plain": [
              "Text(0.5, 0, 'Height (cm)')"
            ]
          },
          "metadata": {
            "tags": []
          },
          "execution_count": 3
        },
        {
          "output_type": "display_data",
          "data": {
            "image/png": "[encoded data removed]",
            "text/plain": [
              "<Figure size 576x432 with 1 Axes>"
            ]
          },
          "metadata": {
            "tags": []
          }
        }
      ]
    },
    {
      "cell_type": "markdown",
      "metadata": {
        "id": "kahUVYCOUyyl",
        "colab_type": "text"
      },
      "source": [
        "The boxplot of player heights is approximately symmetric and shows no skew. In addition, the density plot of heights seems is indeed a bell curve and approximates a normal distribution. Thus, our following analyses are much more effective and generalizable to other NBA players, which will be useful in predicting a player's height from their statistics."
      ]
    },
    {
      "cell_type": "markdown",
      "metadata": {
        "id": "m2imdKy8w7lF",
        "colab_type": "text"
      },
      "source": [
        "We believe that the position a player plays will be dependent on that player's height. Let's explore this by creating a density plot."
      ]
    },
    {
      "cell_type": "code",
      "metadata": {
        "id": "FUqjAMNovTEm",
        "colab_type": "code",
        "outputId": "fa0ddc72-9cb1-441c-cc6d-0f71839f47a6",
        "colab": {
          "base_uri": "https://localhost:8080/",
          "height": 638
        }
      },
      "source": [
        "# need to groupby and plot in a for loop in order to get legend on the graph\n",
        "for name, group in df_avgs.groupby(\"player_position\"):\n",
        "  group[\"height (cm)\"].plot.density(label=name, legend=True,\n",
        "                                    title=\"Player Height vs Player Position\",\n",
        "                                    figsize=(20,10),\n",
        "                                    xlim=(df_avgs[\"height (cm)\"].min(),\n",
        "                                          df_avgs[\"height (cm)\"].max()))\n",
        "plt.gca().set_xlabel(\"Height (cm)\")"
      ],
      "execution_count": 0,
      "outputs": [
        {
          "output_type": "execute_result",
          "data": {
            "text/plain": [
              "Text(0.5, 0, 'Height (cm)')"
            ]
          },
          "metadata": {
            "tags": []
          },
          "execution_count": 4
        },
        {
          "output_type": "display_data",
          "data": {
            "image/png": "[encoded data removed]",
            "text/plain": [
              "<Figure size 1440x720 with 1 Axes>"
            ]
          },
          "metadata": {
            "tags": []
          }
        }
      ]
    },
    {
      "cell_type": "markdown",
      "metadata": {
        "id": "7H9BuDc_x4mG",
        "colab_type": "text"
      },
      "source": [
        "From the above graph, we do indeed see some trends. Players who play C-F, F-C, or C are almost exclusively greater than the median height of all the players. On the other hand, none of the tallest players play positions F-G or G. The G position, or guard, is located farther from the net, outside the 3 point line, whereas positions C (center) and F (forward) are located closer to the net, inside the 3 point line. Thus, the graph shows that taller players tend to play more inside the 3 point line whereas shorter players tend to play outside the 3 point line. This makes sense from an intuitive standpoint, since taller players should have a better chance at getting rebounds and making plays if need be.\n",
        "\n",
        "\n",
        "The below DataFrame also agrees with our analysis of the graph (notice how the means for G and F-G are significantly lower than the means for C, C-F, and F-C)."
      ]
    },
    {
      "cell_type": "code",
      "metadata": {
        "id": "2VmduUuVV9i-",
        "colab_type": "code",
        "outputId": "139d9ad9-5c7e-4f8f-8142-3337efc7825d",
        "colab": {
          "base_uri": "https://localhost:8080/",
          "height": 297
        }
      },
      "source": [
        "df_avgs.groupby(\"player_position\")[\"height (cm)\"].describe()"
      ],
      "execution_count": 0,
      "outputs": [
        {
          "output_type": "execute_result",
          "data": {
            "text/html": [
              "<div>\n",
              "<style scoped>\n",
              "    .dataframe tbody tr th:only-of-type {\n",
              "        vertical-align: middle;\n",
              "    }\n",
              "\n",
              "    .dataframe tbody tr th {\n",
              "        vertical-align: top;\n",
              "    }\n",
              "\n",
              "    .dataframe thead th {\n",
              "        text-align: right;\n",
              "    }\n",
              "</style>\n",
              "<table border=\"1\" class=\"dataframe\">\n",
              "  <thead>\n",
              "    <tr style=\"text-align: right;\">\n",
              "      <th></th>\n",
              "      <th>count</th>\n",
              "      <th>mean</th>\n",
              "      <th>std</th>\n",
              "      <th>min</th>\n",
              "      <th>25%</th>\n",
              "      <th>50%</th>\n",
              "      <th>75%</th>\n",
              "      <th>max</th>\n",
              "    </tr>\n",
              "    <tr>\n",
              "      <th>player_position</th>\n",
              "      <th></th>\n",
              "      <th></th>\n",
              "      <th></th>\n",
              "      <th></th>\n",
              "      <th></th>\n",
              "      <th></th>\n",
              "      <th></th>\n",
              "      <th></th>\n",
              "    </tr>\n",
              "  </thead>\n",
              "  <tbody>\n",
              "    <tr>\n",
              "      <th>C</th>\n",
              "      <td>18.0</td>\n",
              "      <td>212.372222</td>\n",
              "      <td>3.606746</td>\n",
              "      <td>205.74</td>\n",
              "      <td>210.82</td>\n",
              "      <td>213.36</td>\n",
              "      <td>213.36</td>\n",
              "      <td>220.98</td>\n",
              "    </tr>\n",
              "    <tr>\n",
              "      <th>C-F</th>\n",
              "      <td>6.0</td>\n",
              "      <td>208.280000</td>\n",
              "      <td>1.606437</td>\n",
              "      <td>205.74</td>\n",
              "      <td>208.28</td>\n",
              "      <td>208.28</td>\n",
              "      <td>208.28</td>\n",
              "      <td>210.82</td>\n",
              "    </tr>\n",
              "    <tr>\n",
              "      <th>F</th>\n",
              "      <td>69.0</td>\n",
              "      <td>204.635652</td>\n",
              "      <td>3.784471</td>\n",
              "      <td>195.58</td>\n",
              "      <td>203.20</td>\n",
              "      <td>205.74</td>\n",
              "      <td>208.28</td>\n",
              "      <td>215.90</td>\n",
              "    </tr>\n",
              "    <tr>\n",
              "      <th>F-C</th>\n",
              "      <td>10.0</td>\n",
              "      <td>210.058000</td>\n",
              "      <td>4.325464</td>\n",
              "      <td>203.20</td>\n",
              "      <td>208.28</td>\n",
              "      <td>210.82</td>\n",
              "      <td>213.36</td>\n",
              "      <td>215.90</td>\n",
              "    </tr>\n",
              "    <tr>\n",
              "      <th>F-G</th>\n",
              "      <td>2.0</td>\n",
              "      <td>195.580000</td>\n",
              "      <td>3.592102</td>\n",
              "      <td>193.04</td>\n",
              "      <td>194.31</td>\n",
              "      <td>195.58</td>\n",
              "      <td>196.85</td>\n",
              "      <td>198.12</td>\n",
              "    </tr>\n",
              "    <tr>\n",
              "      <th>G</th>\n",
              "      <td>77.0</td>\n",
              "      <td>192.182338</td>\n",
              "      <td>5.350373</td>\n",
              "      <td>182.88</td>\n",
              "      <td>187.96</td>\n",
              "      <td>193.04</td>\n",
              "      <td>195.58</td>\n",
              "      <td>203.20</td>\n",
              "    </tr>\n",
              "    <tr>\n",
              "      <th>G-F</th>\n",
              "      <td>15.0</td>\n",
              "      <td>200.490667</td>\n",
              "      <td>3.250898</td>\n",
              "      <td>195.58</td>\n",
              "      <td>198.12</td>\n",
              "      <td>200.66</td>\n",
              "      <td>200.66</td>\n",
              "      <td>208.28</td>\n",
              "    </tr>\n",
              "  </tbody>\n",
              "</table>\n",
              "</div>"
            ],
            "text/plain": [
              "                 count        mean       std  ...     50%     75%     max\n",
              "player_position                               ...                        \n",
              "C                 18.0  212.372222  3.606746  ...  213.36  213.36  220.98\n",
              "C-F                6.0  208.280000  1.606437  ...  208.28  208.28  210.82\n",
              "F                 69.0  204.635652  3.784471  ...  205.74  208.28  215.90\n",
              "F-C               10.0  210.058000  4.325464  ...  210.82  213.36  215.90\n",
              "F-G                2.0  195.580000  3.592102  ...  195.58  196.85  198.12\n",
              "G                 77.0  192.182338  5.350373  ...  193.04  195.58  203.20\n",
              "G-F               15.0  200.490667  3.250898  ...  200.66  200.66  208.28\n",
              "\n",
              "[7 rows x 8 columns]"
            ]
          },
          "metadata": {
            "tags": []
          },
          "execution_count": 5
        }
      ]
    },
    {
      "cell_type": "markdown",
      "metadata": {
        "id": "FFmvg9EozLPj",
        "colab_type": "text"
      },
      "source": [
        "We now decided to see how height correlates with statistics that we thought would intuitively correlate with height. These statistics include PPG (points per game), rebounds, blocks, and field goal percentage (ratio of field goals made to field goals attempted). Keep in mind that all the statistics in the df_avgs dataframe are averaged over all the games played for each specific player in the 2018-2019 NBA season."
      ]
    },
    {
      "cell_type": "code",
      "metadata": {
        "id": "bMsRqx6Bj1y_",
        "colab_type": "code",
        "colab": {}
      },
      "source": [
        "# functions to plot the line of best fit (used for scatter plots)\n",
        "def plot_line(x_vals, y_vals):\n",
        "  df_copy = df_avgs.copy()\n",
        "  df_copy.dropna(inplace=True)\n",
        "  z = np.polyfit(x=df_copy[x_vals], y=df_copy[y_vals], deg=1)\n",
        "  axes = plt.gca()\n",
        "  x_vals = np.array(axes.get_xlim())\n",
        "  y_vals = z[1] + z[0] * x_vals\n",
        "  plt.plot(x_vals, y_vals)\n",
        "\n",
        "def plot_line_2(x_vals, y_vals):\n",
        "  df_copy = df_avgs_per_min.copy()\n",
        "  df_copy.dropna(inplace=True)\n",
        "  z = np.polyfit(x=df_copy[x_vals], y=df_copy[y_vals], deg=1)\n",
        "  axes = plt.gca()\n",
        "  x_vals = np.array(axes.get_xlim())\n",
        "  y_vals = z[1] + z[0] * x_vals\n",
        "  plt.plot(x_vals, y_vals, c=\"red\")"
      ],
      "execution_count": 0,
      "outputs": []
    },
    {
      "cell_type": "code",
      "metadata": {
        "id": "6Vdk_-ZMVQhO",
        "colab_type": "code",
        "outputId": "4c6a8936-9e8f-470b-865b-fc58f138947f",
        "colab": {
          "base_uri": "https://localhost:8080/",
          "height": 421
        }
      },
      "source": [
        "df_avgs.plot.scatter(x=\"height (cm)\", y=\"pts\",\n",
        "                     title=\"Player Height vs Points per Game\",\n",
        "                     figsize=(8, 6))\n",
        "plot_line(\"height (cm)\", \"pts\")\n",
        "df_avgs[\"height (cm)\"].corr(df_avgs[\"pts\"])"
      ],
      "execution_count": 0,
      "outputs": [
        {
          "output_type": "execute_result",
          "data": {
            "text/plain": [
              "-0.009576405389732414"
            ]
          },
          "metadata": {
            "tags": []
          },
          "execution_count": 8
        },
        {
          "output_type": "display_data",
          "data": {
            "image/png": "[encoded data removed]",
            "text/plain": [
              "<Figure size 576x432 with 1 Axes>"
            ]
          },
          "metadata": {
            "tags": []
          }
        }
      ]
    },
    {
      "cell_type": "code",
      "metadata": {
        "id": "A1PTdh8yYb0L",
        "colab_type": "code",
        "outputId": "345b4bae-3061-474c-a967-8e2b9100c672",
        "colab": {
          "base_uri": "https://localhost:8080/",
          "height": 421
        }
      },
      "source": [
        "df_avgs.plot.scatter(x=\"height (cm)\", y=\"reb\",\n",
        "                     title=\"Player Height vs Rebounds per Game\",\n",
        "                     figsize=(8, 6))\n",
        "plot_line(\"height (cm)\", \"reb\")\n",
        "df_avgs[\"height (cm)\"].corr(df_avgs[\"reb\"])"
      ],
      "execution_count": 0,
      "outputs": [
        {
          "output_type": "execute_result",
          "data": {
            "text/plain": [
              "0.4440260155431025"
            ]
          },
          "metadata": {
            "tags": []
          },
          "execution_count": 9
        },
        {
          "output_type": "display_data",
          "data": {
            "image/png": "[encoded data removed]",
            "text/plain": [
              "<Figure size 576x432 with 1 Axes>"
            ]
          },
          "metadata": {
            "tags": []
          }
        }
      ]
    },
    {
      "cell_type": "code",
      "metadata": {
        "id": "EmDThvHRY0V2",
        "colab_type": "code",
        "outputId": "1c197063-f3a9-45cb-df3e-25bcd81ccd8a",
        "colab": {
          "base_uri": "https://localhost:8080/",
          "height": 421
        }
      },
      "source": [
        "df_avgs.plot.scatter(x=\"height (cm)\", y=\"blk\",\n",
        "                     title=\"Player Height vs Blocks per Game\",\n",
        "                     figsize=(8, 6))\n",
        "plot_line(\"height (cm)\", \"blk\")\n",
        "df_avgs[\"height (cm)\"].corr(df_avgs[\"blk\"])"
      ],
      "execution_count": 0,
      "outputs": [
        {
          "output_type": "execute_result",
          "data": {
            "text/plain": [
              "0.5324333578492704"
            ]
          },
          "metadata": {
            "tags": []
          },
          "execution_count": 10
        },
        {
          "output_type": "display_data",
          "data": {
            "image/png": "[encoded data removed]",
            "text/plain": [
              "<Figure size 576x432 with 1 Axes>"
            ]
          },
          "metadata": {
            "tags": []
          }
        }
      ]
    },
    {
      "cell_type": "code",
      "metadata": {
        "id": "ByyvBK3DZAcH",
        "colab_type": "code",
        "outputId": "658e765c-6f16-4a71-a51e-f8aaa6a9e8cf",
        "colab": {
          "base_uri": "https://localhost:8080/",
          "height": 421
        }
      },
      "source": [
        "df_avgs.plot.scatter(x=\"height (cm)\", y=\"fg_pct\",\n",
        "                     title=\"Player Height vs Field Goal Percentage\",\n",
        "                     figsize=(8, 6))\n",
        "plot_line(\"height (cm)\", \"fg_pct\")\n",
        "df_avgs[\"height (cm)\"].corr(df_avgs[\"fg_pct\"])"
      ],
      "execution_count": 0,
      "outputs": [
        {
          "output_type": "execute_result",
          "data": {
            "text/plain": [
              "0.5162730919292913"
            ]
          },
          "metadata": {
            "tags": []
          },
          "execution_count": 11
        },
        {
          "output_type": "display_data",
          "data": {
            "image/png": "[encoded data removed]",
            "text/plain": [
              "<Figure size 576x432 with 1 Axes>"
            ]
          },
          "metadata": {
            "tags": []
          }
        }
      ]
    },
    {
      "cell_type": "markdown",
      "metadata": {
        "id": "dEPwRY6I2Xw2",
        "colab_type": "text"
      },
      "source": [
        "Surprisingly, there is no linear relationship between the height of a player and the number of points per game they score. However, there was a positive correlation between height and rebounds, height and blocks, and height and field goal percentage. The correlation is moderate, with r≈0.50 for all 3 graphs. This was a bit lower than we expected the correlation to be."
      ]
    },
    {
      "cell_type": "markdown",
      "metadata": {
        "id": "CihcnmzW5kxj",
        "colab_type": "text"
      },
      "source": [
        "Just to be sure that there is no other statistic that is a good predictor of height (strong correlation), we can find the correlations between the quantitative values of the whole dataframe."
      ]
    },
    {
      "cell_type": "code",
      "metadata": {
        "id": "lJdpVscJhxM1",
        "colab_type": "code",
        "outputId": "d257425e-d50c-4c9b-c9d5-aa2fff854bc5",
        "colab": {
          "base_uri": "https://localhost:8080/",
          "height": 476
        }
      },
      "source": [
        "# since we are only interested in the strength of the relationship right now,\n",
        "# not the direction, we can take the absolute value of the whole series and\n",
        "# then sort the values\n",
        "np.abs(df_avgs.corr()[\"height (cm)\"]).sort_values(ascending=False)"
      ],
      "execution_count": 0,
      "outputs": [
        {
          "output_type": "execute_result",
          "data": {
            "text/plain": [
              "height (cm)         1.000000\n",
              "player_weight       0.800546\n",
              "player_height_in    0.540004\n",
              "blk                 0.532433\n",
              "fg_pct              0.516273\n",
              "oreb                0.513463\n",
              "player_height_ft    0.483968\n",
              "reb                 0.444026\n",
              "dreb                0.377055\n",
              "fg3_pct             0.336991\n",
              "fg3a                0.329388\n",
              "fg3m                0.324987\n",
              "ast                 0.322034\n",
              "ft_pct              0.231797\n",
              "pf                  0.197472\n",
              "stl                 0.148669\n",
              "fta                 0.127057\n",
              "fga                 0.083030\n",
              "ftm                 0.071979\n",
              "minutes/gm          0.060564\n",
              "player_id           0.049830\n",
              "turnover            0.047631\n",
              "fgm                 0.024640\n",
              "pts                 0.009576\n",
              "games_played        0.000328\n",
              "season                   NaN\n",
              "Name: height (cm), dtype: float64"
            ]
          },
          "metadata": {
            "tags": []
          },
          "execution_count": 12
        }
      ]
    },
    {
      "cell_type": "markdown",
      "metadata": {
        "id": "h7FSH9ju6WAO",
        "colab_type": "text"
      },
      "source": [
        "The 3 statistics most correlated with height are the numer of blocks, field goal percentage, and the number of offensive rebounds (which contributed to total rebounds), just as we suspected. Note that while variables like the player's weight obviously correlate well with the player's height, they are not basketball statistics and therefore that relationship is not relevant."
      ]
    },
    {
      "cell_type": "markdown",
      "metadata": {
        "id": "pHoj3_8D7Cps",
        "colab_type": "text"
      },
      "source": [
        "Up until now, we have just been using the average statistics data for the whole season for each player. However, we also have data on the average number of minutes each player played per game. Therefore, we should adjust the statistics based on the average number of minutes played per game for each player, because some of the statistics depend on games played (like rebounds per game). For example, a player who played 10 minutes per game is less likely to get the same number of rebounds as a player who played 20 minutes per game. Thus, it is a good idea to transform the data. We chose to scale the statistics by just dividing by the number of minutes played. However, in order to do this, we first created a seconds columns for df_avgs."
      ]
    },
    {
      "cell_type": "code",
      "metadata": {
        "id": "OInqL168Z62j",
        "colab_type": "code",
        "outputId": "3e7f4e24-4a6e-4916-f1f6-66f7f047926e",
        "colab": {
          "base_uri": "https://localhost:8080/",
          "height": 541
        }
      },
      "source": [
        "df_avgs[\"sec\"] = df_avgs[\"minutes/gm\"] * 60\n",
        "df_avgs"
      ],
      "execution_count": 0,
      "outputs": [
        {
          "output_type": "execute_result",
          "data": {
            "text/html": [
              "<div>\n",
              "<style scoped>\n",
              "    .dataframe tbody tr th:only-of-type {\n",
              "        vertical-align: middle;\n",
              "    }\n",
              "\n",
              "    .dataframe tbody tr th {\n",
              "        vertical-align: top;\n",
              "    }\n",
              "\n",
              "    .dataframe thead th {\n",
              "        text-align: right;\n",
              "    }\n",
              "</style>\n",
              "<table border=\"1\" class=\"dataframe\">\n",
              "  <thead>\n",
              "    <tr style=\"text-align: right;\">\n",
              "      <th></th>\n",
              "      <th>games_played</th>\n",
              "      <th>player_id</th>\n",
              "      <th>season</th>\n",
              "      <th>min</th>\n",
              "      <th>fgm</th>\n",
              "      <th>fga</th>\n",
              "      <th>fg3m</th>\n",
              "      <th>fg3a</th>\n",
              "      <th>ftm</th>\n",
              "      <th>fta</th>\n",
              "      <th>oreb</th>\n",
              "      <th>dreb</th>\n",
              "      <th>reb</th>\n",
              "      <th>ast</th>\n",
              "      <th>stl</th>\n",
              "      <th>blk</th>\n",
              "      <th>turnover</th>\n",
              "      <th>pf</th>\n",
              "      <th>pts</th>\n",
              "      <th>fg_pct</th>\n",
              "      <th>fg3_pct</th>\n",
              "      <th>ft_pct</th>\n",
              "      <th>player_name</th>\n",
              "      <th>player_height_ft</th>\n",
              "      <th>player_height_in</th>\n",
              "      <th>player_weight</th>\n",
              "      <th>player_position</th>\n",
              "      <th>height (cm)</th>\n",
              "      <th>minutes/gm</th>\n",
              "      <th>sec</th>\n",
              "    </tr>\n",
              "  </thead>\n",
              "  <tbody>\n",
              "    <tr>\n",
              "      <th>0</th>\n",
              "      <td>80</td>\n",
              "      <td>3</td>\n",
              "      <td>2018</td>\n",
              "      <td>33:19</td>\n",
              "      <td>6.01</td>\n",
              "      <td>10.09</td>\n",
              "      <td>0.00</td>\n",
              "      <td>0.03</td>\n",
              "      <td>1.83</td>\n",
              "      <td>3.65</td>\n",
              "      <td>4.89</td>\n",
              "      <td>4.61</td>\n",
              "      <td>9.50</td>\n",
              "      <td>1.55</td>\n",
              "      <td>1.48</td>\n",
              "      <td>0.95</td>\n",
              "      <td>1.71</td>\n",
              "      <td>2.55</td>\n",
              "      <td>13.85</td>\n",
              "      <td>0.596</td>\n",
              "      <td>0.000</td>\n",
              "      <td>0.500</td>\n",
              "      <td>Steven Adams</td>\n",
              "      <td>7.0</td>\n",
              "      <td>0.0</td>\n",
              "      <td>265.0</td>\n",
              "      <td>C</td>\n",
              "      <td>213.36</td>\n",
              "      <td>33.316667</td>\n",
              "      <td>1999.0</td>\n",
              "    </tr>\n",
              "    <tr>\n",
              "      <th>1</th>\n",
              "      <td>81</td>\n",
              "      <td>6</td>\n",
              "      <td>2018</td>\n",
              "      <td>33:10</td>\n",
              "      <td>8.44</td>\n",
              "      <td>16.28</td>\n",
              "      <td>0.12</td>\n",
              "      <td>0.52</td>\n",
              "      <td>4.31</td>\n",
              "      <td>5.09</td>\n",
              "      <td>3.11</td>\n",
              "      <td>6.09</td>\n",
              "      <td>9.20</td>\n",
              "      <td>2.40</td>\n",
              "      <td>0.53</td>\n",
              "      <td>1.32</td>\n",
              "      <td>1.78</td>\n",
              "      <td>2.21</td>\n",
              "      <td>21.32</td>\n",
              "      <td>0.519</td>\n",
              "      <td>0.238</td>\n",
              "      <td>0.847</td>\n",
              "      <td>LaMarcus Aldridge</td>\n",
              "      <td>6.0</td>\n",
              "      <td>11.0</td>\n",
              "      <td>260.0</td>\n",
              "      <td>F</td>\n",
              "      <td>210.82</td>\n",
              "      <td>33.166667</td>\n",
              "      <td>1990.0</td>\n",
              "    </tr>\n",
              "    <tr>\n",
              "      <th>2</th>\n",
              "      <td>48</td>\n",
              "      <td>8</td>\n",
              "      <td>2018</td>\n",
              "      <td>8:40</td>\n",
              "      <td>1.40</td>\n",
              "      <td>3.71</td>\n",
              "      <td>0.67</td>\n",
              "      <td>2.06</td>\n",
              "      <td>0.94</td>\n",
              "      <td>1.25</td>\n",
              "      <td>0.06</td>\n",
              "      <td>0.44</td>\n",
              "      <td>0.50</td>\n",
              "      <td>0.52</td>\n",
              "      <td>0.10</td>\n",
              "      <td>0.13</td>\n",
              "      <td>0.69</td>\n",
              "      <td>0.98</td>\n",
              "      <td>4.40</td>\n",
              "      <td>0.376</td>\n",
              "      <td>0.323</td>\n",
              "      <td>0.750</td>\n",
              "      <td>Grayson Allen</td>\n",
              "      <td>6.0</td>\n",
              "      <td>5.0</td>\n",
              "      <td>198.0</td>\n",
              "      <td>G</td>\n",
              "      <td>195.58</td>\n",
              "      <td>8.666667</td>\n",
              "      <td>520.0</td>\n",
              "    </tr>\n",
              "    <tr>\n",
              "      <th>3</th>\n",
              "      <td>80</td>\n",
              "      <td>9</td>\n",
              "      <td>2018</td>\n",
              "      <td>26:12</td>\n",
              "      <td>4.19</td>\n",
              "      <td>7.10</td>\n",
              "      <td>0.08</td>\n",
              "      <td>0.56</td>\n",
              "      <td>2.46</td>\n",
              "      <td>3.48</td>\n",
              "      <td>2.40</td>\n",
              "      <td>6.01</td>\n",
              "      <td>8.41</td>\n",
              "      <td>1.38</td>\n",
              "      <td>0.55</td>\n",
              "      <td>1.50</td>\n",
              "      <td>1.30</td>\n",
              "      <td>2.30</td>\n",
              "      <td>10.91</td>\n",
              "      <td>0.590</td>\n",
              "      <td>0.133</td>\n",
              "      <td>0.709</td>\n",
              "      <td>Jarrett Allen</td>\n",
              "      <td>6.0</td>\n",
              "      <td>11.0</td>\n",
              "      <td>237.0</td>\n",
              "      <td>C</td>\n",
              "      <td>210.82</td>\n",
              "      <td>26.200000</td>\n",
              "      <td>1572.0</td>\n",
              "    </tr>\n",
              "    <tr>\n",
              "      <th>4</th>\n",
              "      <td>82</td>\n",
              "      <td>10</td>\n",
              "      <td>2018</td>\n",
              "      <td>27:56</td>\n",
              "      <td>3.13</td>\n",
              "      <td>7.23</td>\n",
              "      <td>1.17</td>\n",
              "      <td>3.41</td>\n",
              "      <td>1.83</td>\n",
              "      <td>2.11</td>\n",
              "      <td>1.37</td>\n",
              "      <td>6.07</td>\n",
              "      <td>7.44</td>\n",
              "      <td>1.27</td>\n",
              "      <td>0.83</td>\n",
              "      <td>0.40</td>\n",
              "      <td>0.88</td>\n",
              "      <td>1.74</td>\n",
              "      <td>9.27</td>\n",
              "      <td>0.433</td>\n",
              "      <td>0.343</td>\n",
              "      <td>0.867</td>\n",
              "      <td>Al-Farouq Aminu</td>\n",
              "      <td>6.0</td>\n",
              "      <td>9.0</td>\n",
              "      <td>220.0</td>\n",
              "      <td>F</td>\n",
              "      <td>205.74</td>\n",
              "      <td>27.933333</td>\n",
              "      <td>1676.0</td>\n",
              "    </tr>\n",
              "    <tr>\n",
              "      <th>...</th>\n",
              "      <td>...</td>\n",
              "      <td>...</td>\n",
              "      <td>...</td>\n",
              "      <td>...</td>\n",
              "      <td>...</td>\n",
              "      <td>...</td>\n",
              "      <td>...</td>\n",
              "      <td>...</td>\n",
              "      <td>...</td>\n",
              "      <td>...</td>\n",
              "      <td>...</td>\n",
              "      <td>...</td>\n",
              "      <td>...</td>\n",
              "      <td>...</td>\n",
              "      <td>...</td>\n",
              "      <td>...</td>\n",
              "      <td>...</td>\n",
              "      <td>...</td>\n",
              "      <td>...</td>\n",
              "      <td>...</td>\n",
              "      <td>...</td>\n",
              "      <td>...</td>\n",
              "      <td>...</td>\n",
              "      <td>...</td>\n",
              "      <td>...</td>\n",
              "      <td>...</td>\n",
              "      <td>...</td>\n",
              "      <td>...</td>\n",
              "      <td>...</td>\n",
              "      <td>...</td>\n",
              "    </tr>\n",
              "    <tr>\n",
              "      <th>205</th>\n",
              "      <td>3</td>\n",
              "      <td>1988</td>\n",
              "      <td>2018</td>\n",
              "      <td>4:15</td>\n",
              "      <td>1.00</td>\n",
              "      <td>2.00</td>\n",
              "      <td>0.00</td>\n",
              "      <td>0.00</td>\n",
              "      <td>0.00</td>\n",
              "      <td>0.67</td>\n",
              "      <td>0.67</td>\n",
              "      <td>0.33</td>\n",
              "      <td>1.00</td>\n",
              "      <td>0.33</td>\n",
              "      <td>0.00</td>\n",
              "      <td>0.33</td>\n",
              "      <td>1.00</td>\n",
              "      <td>2.00</td>\n",
              "      <td>2.00</td>\n",
              "      <td>0.500</td>\n",
              "      <td>0.000</td>\n",
              "      <td>0.000</td>\n",
              "      <td>Donatas Motiejunas</td>\n",
              "      <td>NaN</td>\n",
              "      <td>NaN</td>\n",
              "      <td>NaN</td>\n",
              "      <td>NaN</td>\n",
              "      <td>NaN</td>\n",
              "      <td>4.250000</td>\n",
              "      <td>255.0</td>\n",
              "    </tr>\n",
              "    <tr>\n",
              "      <th>206</th>\n",
              "      <td>7</td>\n",
              "      <td>2106</td>\n",
              "      <td>2018</td>\n",
              "      <td>6:10</td>\n",
              "      <td>0.43</td>\n",
              "      <td>1.00</td>\n",
              "      <td>0.14</td>\n",
              "      <td>0.14</td>\n",
              "      <td>0.00</td>\n",
              "      <td>0.00</td>\n",
              "      <td>0.57</td>\n",
              "      <td>2.29</td>\n",
              "      <td>2.86</td>\n",
              "      <td>0.57</td>\n",
              "      <td>0.14</td>\n",
              "      <td>0.14</td>\n",
              "      <td>0.71</td>\n",
              "      <td>1.29</td>\n",
              "      <td>1.00</td>\n",
              "      <td>0.429</td>\n",
              "      <td>1.000</td>\n",
              "      <td>0.000</td>\n",
              "      <td>Eric Moreland</td>\n",
              "      <td>NaN</td>\n",
              "      <td>NaN</td>\n",
              "      <td>NaN</td>\n",
              "      <td>NaN</td>\n",
              "      <td>NaN</td>\n",
              "      <td>6.166667</td>\n",
              "      <td>370.0</td>\n",
              "    </tr>\n",
              "    <tr>\n",
              "      <th>207</th>\n",
              "      <td>30</td>\n",
              "      <td>2158</td>\n",
              "      <td>2018</td>\n",
              "      <td>13:14</td>\n",
              "      <td>0.87</td>\n",
              "      <td>2.10</td>\n",
              "      <td>0.30</td>\n",
              "      <td>0.93</td>\n",
              "      <td>0.43</td>\n",
              "      <td>0.50</td>\n",
              "      <td>0.23</td>\n",
              "      <td>1.37</td>\n",
              "      <td>1.60</td>\n",
              "      <td>0.97</td>\n",
              "      <td>0.77</td>\n",
              "      <td>0.10</td>\n",
              "      <td>0.57</td>\n",
              "      <td>1.27</td>\n",
              "      <td>2.47</td>\n",
              "      <td>0.413</td>\n",
              "      <td>0.321</td>\n",
              "      <td>0.867</td>\n",
              "      <td>Patrick McCaw</td>\n",
              "      <td>6.0</td>\n",
              "      <td>7.0</td>\n",
              "      <td>185.0</td>\n",
              "      <td>NaN</td>\n",
              "      <td>200.66</td>\n",
              "      <td>13.233333</td>\n",
              "      <td>794.0</td>\n",
              "    </tr>\n",
              "    <tr>\n",
              "      <th>208</th>\n",
              "      <td>40</td>\n",
              "      <td>2175</td>\n",
              "      <td>2018</td>\n",
              "      <td>24:28</td>\n",
              "      <td>2.95</td>\n",
              "      <td>6.30</td>\n",
              "      <td>1.85</td>\n",
              "      <td>4.45</td>\n",
              "      <td>1.40</td>\n",
              "      <td>1.78</td>\n",
              "      <td>0.63</td>\n",
              "      <td>2.88</td>\n",
              "      <td>3.50</td>\n",
              "      <td>1.00</td>\n",
              "      <td>0.53</td>\n",
              "      <td>0.28</td>\n",
              "      <td>0.88</td>\n",
              "      <td>2.00</td>\n",
              "      <td>9.15</td>\n",
              "      <td>0.468</td>\n",
              "      <td>0.416</td>\n",
              "      <td>0.789</td>\n",
              "      <td>Danuel House Jr.</td>\n",
              "      <td>6.0</td>\n",
              "      <td>7.0</td>\n",
              "      <td>220.0</td>\n",
              "      <td>NaN</td>\n",
              "      <td>200.66</td>\n",
              "      <td>24.466667</td>\n",
              "      <td>1468.0</td>\n",
              "    </tr>\n",
              "    <tr>\n",
              "      <th>209</th>\n",
              "      <td>22</td>\n",
              "      <td>2215</td>\n",
              "      <td>2018</td>\n",
              "      <td>3:03</td>\n",
              "      <td>0.50</td>\n",
              "      <td>1.18</td>\n",
              "      <td>0.45</td>\n",
              "      <td>0.95</td>\n",
              "      <td>0.14</td>\n",
              "      <td>0.18</td>\n",
              "      <td>0.05</td>\n",
              "      <td>0.18</td>\n",
              "      <td>0.23</td>\n",
              "      <td>0.05</td>\n",
              "      <td>0.05</td>\n",
              "      <td>0.05</td>\n",
              "      <td>0.05</td>\n",
              "      <td>0.23</td>\n",
              "      <td>1.59</td>\n",
              "      <td>0.423</td>\n",
              "      <td>0.476</td>\n",
              "      <td>0.750</td>\n",
              "      <td>Malcolm Miller</td>\n",
              "      <td>NaN</td>\n",
              "      <td>NaN</td>\n",
              "      <td>NaN</td>\n",
              "      <td>NaN</td>\n",
              "      <td>NaN</td>\n",
              "      <td>3.050000</td>\n",
              "      <td>183.0</td>\n",
              "    </tr>\n",
              "  </tbody>\n",
              "</table>\n",
              "<p>210 rows × 30 columns</p>\n",
              "</div>"
            ],
            "text/plain": [
              "     games_played  player_id  season  ... height (cm)  minutes/gm     sec\n",
              "0              80          3    2018  ...      213.36   33.316667  1999.0\n",
              "1              81          6    2018  ...      210.82   33.166667  1990.0\n",
              "2              48          8    2018  ...      195.58    8.666667   520.0\n",
              "3              80          9    2018  ...      210.82   26.200000  1572.0\n",
              "4              82         10    2018  ...      205.74   27.933333  1676.0\n",
              "..            ...        ...     ...  ...         ...         ...     ...\n",
              "205             3       1988    2018  ...         NaN    4.250000   255.0\n",
              "206             7       2106    2018  ...         NaN    6.166667   370.0\n",
              "207            30       2158    2018  ...      200.66   13.233333   794.0\n",
              "208            40       2175    2018  ...      200.66   24.466667  1468.0\n",
              "209            22       2215    2018  ...         NaN    3.050000   183.0\n",
              "\n",
              "[210 rows x 30 columns]"
            ]
          },
          "metadata": {
            "tags": []
          },
          "execution_count": 13
        }
      ]
    },
    {
      "cell_type": "code",
      "metadata": {
        "id": "3jhv4XcgkjPJ",
        "colab_type": "code",
        "outputId": "435ed18f-c481-4795-c013-1d88c4f067c4",
        "colab": {
          "base_uri": "https://localhost:8080/",
          "height": 456
        }
      },
      "source": [
        "# getting columns 3 to 20 of df_avgs because those are basketball statistics\n",
        "df_avgs_per_min = df_avgs[df_avgs.select_dtypes(exclude=\"object\").columns[3:21]]\n",
        "df_avgs_per_min = df_avgs_per_min.divide(df_avgs[\"sec\"] / 60, axis=0)\n",
        "df_avgs_per_min[\"height (cm)\"] = df_avgs[\"height (cm)\"]\n",
        "df_avgs_per_min"
      ],
      "execution_count": 0,
      "outputs": [
        {
          "output_type": "execute_result",
          "data": {
            "text/html": [
              "<div>\n",
              "<style scoped>\n",
              "    .dataframe tbody tr th:only-of-type {\n",
              "        vertical-align: middle;\n",
              "    }\n",
              "\n",
              "    .dataframe tbody tr th {\n",
              "        vertical-align: top;\n",
              "    }\n",
              "\n",
              "    .dataframe thead th {\n",
              "        text-align: right;\n",
              "    }\n",
              "</style>\n",
              "<table border=\"1\" class=\"dataframe\">\n",
              "  <thead>\n",
              "    <tr style=\"text-align: right;\">\n",
              "      <th></th>\n",
              "      <th>fgm</th>\n",
              "      <th>fga</th>\n",
              "      <th>fg3m</th>\n",
              "      <th>fg3a</th>\n",
              "      <th>ftm</th>\n",
              "      <th>fta</th>\n",
              "      <th>oreb</th>\n",
              "      <th>dreb</th>\n",
              "      <th>reb</th>\n",
              "      <th>ast</th>\n",
              "      <th>stl</th>\n",
              "      <th>blk</th>\n",
              "      <th>turnover</th>\n",
              "      <th>pf</th>\n",
              "      <th>pts</th>\n",
              "      <th>fg_pct</th>\n",
              "      <th>fg3_pct</th>\n",
              "      <th>ft_pct</th>\n",
              "      <th>height (cm)</th>\n",
              "    </tr>\n",
              "  </thead>\n",
              "  <tbody>\n",
              "    <tr>\n",
              "      <th>0</th>\n",
              "      <td>0.180390</td>\n",
              "      <td>0.302851</td>\n",
              "      <td>0.000000</td>\n",
              "      <td>0.000900</td>\n",
              "      <td>0.054927</td>\n",
              "      <td>0.109555</td>\n",
              "      <td>0.146773</td>\n",
              "      <td>0.138369</td>\n",
              "      <td>0.285143</td>\n",
              "      <td>0.046523</td>\n",
              "      <td>0.044422</td>\n",
              "      <td>0.028514</td>\n",
              "      <td>0.051326</td>\n",
              "      <td>0.076538</td>\n",
              "      <td>0.415708</td>\n",
              "      <td>0.017889</td>\n",
              "      <td>0.000000</td>\n",
              "      <td>0.015008</td>\n",
              "      <td>213.36</td>\n",
              "    </tr>\n",
              "    <tr>\n",
              "      <th>1</th>\n",
              "      <td>0.254472</td>\n",
              "      <td>0.490854</td>\n",
              "      <td>0.003618</td>\n",
              "      <td>0.015678</td>\n",
              "      <td>0.129950</td>\n",
              "      <td>0.153467</td>\n",
              "      <td>0.093769</td>\n",
              "      <td>0.183618</td>\n",
              "      <td>0.277387</td>\n",
              "      <td>0.072362</td>\n",
              "      <td>0.015980</td>\n",
              "      <td>0.039799</td>\n",
              "      <td>0.053668</td>\n",
              "      <td>0.066633</td>\n",
              "      <td>0.642814</td>\n",
              "      <td>0.015648</td>\n",
              "      <td>0.007176</td>\n",
              "      <td>0.025538</td>\n",
              "      <td>210.82</td>\n",
              "    </tr>\n",
              "    <tr>\n",
              "      <th>2</th>\n",
              "      <td>0.161538</td>\n",
              "      <td>0.428077</td>\n",
              "      <td>0.077308</td>\n",
              "      <td>0.237692</td>\n",
              "      <td>0.108462</td>\n",
              "      <td>0.144231</td>\n",
              "      <td>0.006923</td>\n",
              "      <td>0.050769</td>\n",
              "      <td>0.057692</td>\n",
              "      <td>0.060000</td>\n",
              "      <td>0.011538</td>\n",
              "      <td>0.015000</td>\n",
              "      <td>0.079615</td>\n",
              "      <td>0.113077</td>\n",
              "      <td>0.507692</td>\n",
              "      <td>0.043385</td>\n",
              "      <td>0.037269</td>\n",
              "      <td>0.086538</td>\n",
              "      <td>195.58</td>\n",
              "    </tr>\n",
              "    <tr>\n",
              "      <th>3</th>\n",
              "      <td>0.159924</td>\n",
              "      <td>0.270992</td>\n",
              "      <td>0.003053</td>\n",
              "      <td>0.021374</td>\n",
              "      <td>0.093893</td>\n",
              "      <td>0.132824</td>\n",
              "      <td>0.091603</td>\n",
              "      <td>0.229389</td>\n",
              "      <td>0.320992</td>\n",
              "      <td>0.052672</td>\n",
              "      <td>0.020992</td>\n",
              "      <td>0.057252</td>\n",
              "      <td>0.049618</td>\n",
              "      <td>0.087786</td>\n",
              "      <td>0.416412</td>\n",
              "      <td>0.022519</td>\n",
              "      <td>0.005076</td>\n",
              "      <td>0.027061</td>\n",
              "      <td>210.82</td>\n",
              "    </tr>\n",
              "    <tr>\n",
              "      <th>4</th>\n",
              "      <td>0.112053</td>\n",
              "      <td>0.258831</td>\n",
              "      <td>0.041885</td>\n",
              "      <td>0.122076</td>\n",
              "      <td>0.065513</td>\n",
              "      <td>0.075537</td>\n",
              "      <td>0.049045</td>\n",
              "      <td>0.217303</td>\n",
              "      <td>0.266348</td>\n",
              "      <td>0.045465</td>\n",
              "      <td>0.029714</td>\n",
              "      <td>0.014320</td>\n",
              "      <td>0.031504</td>\n",
              "      <td>0.062291</td>\n",
              "      <td>0.331862</td>\n",
              "      <td>0.015501</td>\n",
              "      <td>0.012279</td>\n",
              "      <td>0.031038</td>\n",
              "      <td>205.74</td>\n",
              "    </tr>\n",
              "    <tr>\n",
              "      <th>...</th>\n",
              "      <td>...</td>\n",
              "      <td>...</td>\n",
              "      <td>...</td>\n",
              "      <td>...</td>\n",
              "      <td>...</td>\n",
              "      <td>...</td>\n",
              "      <td>...</td>\n",
              "      <td>...</td>\n",
              "      <td>...</td>\n",
              "      <td>...</td>\n",
              "      <td>...</td>\n",
              "      <td>...</td>\n",
              "      <td>...</td>\n",
              "      <td>...</td>\n",
              "      <td>...</td>\n",
              "      <td>...</td>\n",
              "      <td>...</td>\n",
              "      <td>...</td>\n",
              "      <td>...</td>\n",
              "    </tr>\n",
              "    <tr>\n",
              "      <th>205</th>\n",
              "      <td>0.235294</td>\n",
              "      <td>0.470588</td>\n",
              "      <td>0.000000</td>\n",
              "      <td>0.000000</td>\n",
              "      <td>0.000000</td>\n",
              "      <td>0.157647</td>\n",
              "      <td>0.157647</td>\n",
              "      <td>0.077647</td>\n",
              "      <td>0.235294</td>\n",
              "      <td>0.077647</td>\n",
              "      <td>0.000000</td>\n",
              "      <td>0.077647</td>\n",
              "      <td>0.235294</td>\n",
              "      <td>0.470588</td>\n",
              "      <td>0.470588</td>\n",
              "      <td>0.117647</td>\n",
              "      <td>0.000000</td>\n",
              "      <td>0.000000</td>\n",
              "      <td>NaN</td>\n",
              "    </tr>\n",
              "    <tr>\n",
              "      <th>206</th>\n",
              "      <td>0.069730</td>\n",
              "      <td>0.162162</td>\n",
              "      <td>0.022703</td>\n",
              "      <td>0.022703</td>\n",
              "      <td>0.000000</td>\n",
              "      <td>0.000000</td>\n",
              "      <td>0.092432</td>\n",
              "      <td>0.371351</td>\n",
              "      <td>0.463784</td>\n",
              "      <td>0.092432</td>\n",
              "      <td>0.022703</td>\n",
              "      <td>0.022703</td>\n",
              "      <td>0.115135</td>\n",
              "      <td>0.209189</td>\n",
              "      <td>0.162162</td>\n",
              "      <td>0.069568</td>\n",
              "      <td>0.162162</td>\n",
              "      <td>0.000000</td>\n",
              "      <td>NaN</td>\n",
              "    </tr>\n",
              "    <tr>\n",
              "      <th>207</th>\n",
              "      <td>0.065743</td>\n",
              "      <td>0.158690</td>\n",
              "      <td>0.022670</td>\n",
              "      <td>0.070277</td>\n",
              "      <td>0.032494</td>\n",
              "      <td>0.037783</td>\n",
              "      <td>0.017380</td>\n",
              "      <td>0.103526</td>\n",
              "      <td>0.120907</td>\n",
              "      <td>0.073300</td>\n",
              "      <td>0.058186</td>\n",
              "      <td>0.007557</td>\n",
              "      <td>0.043073</td>\n",
              "      <td>0.095970</td>\n",
              "      <td>0.186650</td>\n",
              "      <td>0.031209</td>\n",
              "      <td>0.024257</td>\n",
              "      <td>0.065516</td>\n",
              "      <td>200.66</td>\n",
              "    </tr>\n",
              "    <tr>\n",
              "      <th>208</th>\n",
              "      <td>0.120572</td>\n",
              "      <td>0.257493</td>\n",
              "      <td>0.075613</td>\n",
              "      <td>0.181880</td>\n",
              "      <td>0.057221</td>\n",
              "      <td>0.072752</td>\n",
              "      <td>0.025749</td>\n",
              "      <td>0.117711</td>\n",
              "      <td>0.143052</td>\n",
              "      <td>0.040872</td>\n",
              "      <td>0.021662</td>\n",
              "      <td>0.011444</td>\n",
              "      <td>0.035967</td>\n",
              "      <td>0.081744</td>\n",
              "      <td>0.373978</td>\n",
              "      <td>0.019128</td>\n",
              "      <td>0.017003</td>\n",
              "      <td>0.032248</td>\n",
              "      <td>200.66</td>\n",
              "    </tr>\n",
              "    <tr>\n",
              "      <th>209</th>\n",
              "      <td>0.163934</td>\n",
              "      <td>0.386885</td>\n",
              "      <td>0.147541</td>\n",
              "      <td>0.311475</td>\n",
              "      <td>0.045902</td>\n",
              "      <td>0.059016</td>\n",
              "      <td>0.016393</td>\n",
              "      <td>0.059016</td>\n",
              "      <td>0.075410</td>\n",
              "      <td>0.016393</td>\n",
              "      <td>0.016393</td>\n",
              "      <td>0.016393</td>\n",
              "      <td>0.016393</td>\n",
              "      <td>0.075410</td>\n",
              "      <td>0.521311</td>\n",
              "      <td>0.138689</td>\n",
              "      <td>0.156066</td>\n",
              "      <td>0.245902</td>\n",
              "      <td>NaN</td>\n",
              "    </tr>\n",
              "  </tbody>\n",
              "</table>\n",
              "<p>210 rows × 19 columns</p>\n",
              "</div>"
            ],
            "text/plain": [
              "          fgm       fga      fg3m  ...   fg3_pct    ft_pct  height (cm)\n",
              "0    0.180390  0.302851  0.000000  ...  0.000000  0.015008       213.36\n",
              "1    0.254472  0.490854  0.003618  ...  0.007176  0.025538       210.82\n",
              "2    0.161538  0.428077  0.077308  ...  0.037269  0.086538       195.58\n",
              "3    0.159924  0.270992  0.003053  ...  0.005076  0.027061       210.82\n",
              "4    0.112053  0.258831  0.041885  ...  0.012279  0.031038       205.74\n",
              "..        ...       ...       ...  ...       ...       ...          ...\n",
              "205  0.235294  0.470588  0.000000  ...  0.000000  0.000000          NaN\n",
              "206  0.069730  0.162162  0.022703  ...  0.162162  0.000000          NaN\n",
              "207  0.065743  0.158690  0.022670  ...  0.024257  0.065516       200.66\n",
              "208  0.120572  0.257493  0.075613  ...  0.017003  0.032248       200.66\n",
              "209  0.163934  0.386885  0.147541  ...  0.156066  0.245902          NaN\n",
              "\n",
              "[210 rows x 19 columns]"
            ]
          },
          "metadata": {
            "tags": []
          },
          "execution_count": 14
        }
      ]
    },
    {
      "cell_type": "markdown",
      "metadata": {
        "id": "_Z0OjpERG94y",
        "colab_type": "text"
      },
      "source": [
        "Now that we have a dataframe which is adjusted for the number of minutes played per game, we can find the correlation between height and various variables again."
      ]
    },
    {
      "cell_type": "code",
      "metadata": {
        "id": "pgsISpoBo6Io",
        "colab_type": "code",
        "outputId": "b8e7fde2-311f-4414-9a9a-eb665b17158f",
        "colab": {
          "base_uri": "https://localhost:8080/",
          "height": 357
        }
      },
      "source": [
        "np.abs(df_avgs_per_min.corr()[\"height (cm)\"]).sort_values(ascending=False)"
      ],
      "execution_count": 0,
      "outputs": [
        {
          "output_type": "execute_result",
          "data": {
            "text/plain": [
              "height (cm)    1.000000\n",
              "reb            0.722581\n",
              "dreb           0.670701\n",
              "oreb           0.647090\n",
              "blk            0.549974\n",
              "ast            0.443129\n",
              "fg3a           0.413353\n",
              "fg3m           0.403011\n",
              "pf             0.374080\n",
              "fta            0.216838\n",
              "fg_pct         0.159962\n",
              "stl            0.150151\n",
              "ftm            0.132212\n",
              "fga            0.126223\n",
              "fgm            0.119306\n",
              "fg3_pct        0.092351\n",
              "pts            0.041963\n",
              "ft_pct         0.025782\n",
              "turnover       0.001173\n",
              "Name: height (cm), dtype: float64"
            ]
          },
          "metadata": {
            "tags": []
          },
          "execution_count": 15
        }
      ]
    },
    {
      "cell_type": "markdown",
      "metadata": {
        "id": "o9-7jYRdK37I",
        "colab_type": "text"
      },
      "source": [
        "This significantly increased the strength of the relationship between height and rebounds (from r=0.44 to r=0.72) and barely increased the strength of the relationship between height and blocks (from r=0.53 to r=0.55). However, it greatly reduced the strength of the relationship between height and field goal percentage (from r=0.52 to r=0.16). Let's examine the significant disparities in a bit more detail."
      ]
    },
    {
      "cell_type": "code",
      "metadata": {
        "id": "Vf7xtqhSpdT-",
        "colab_type": "code",
        "outputId": "f6f75a15-8a30-485a-af53-927ff4b63b7b",
        "colab": {
          "base_uri": "https://localhost:8080/",
          "height": 791
        }
      },
      "source": [
        "# we should not superimpose these graphs because the scales are different;\n",
        "# we chose to plot them separately in succession\n",
        "df_avgs_per_min.plot.scatter(x=\"height (cm)\", y=\"reb\",\n",
        "                             title=\"Player Height vs Rebounds per Game (Adjusted)\",\n",
        "                             c=\"red\",\n",
        "                             figsize=(8, 6))\n",
        "plot_line_2(\"height (cm)\", \"reb\")\n",
        "df_avgs.plot.scatter(x=\"height (cm)\", y=\"reb\",\n",
        "                     title=\"Player Height vs Rebounds per Game\",\n",
        "                     figsize=(8, 6))\n",
        "plot_line(\"height (cm)\", \"reb\")"
      ],
      "execution_count": 0,
      "outputs": [
        {
          "output_type": "display_data",
          "data": {
            "image/png": "[encoded data removed]",
            "text/plain": [
              "<Figure size 576x432 with 1 Axes>"
            ]
          },
          "metadata": {
            "tags": []
          }
        },
        {
          "output_type": "display_data",
          "data": {
            "image/png": "[encoded data removed]",
            "text/plain": [
              "<Figure size 576x432 with 1 Axes>"
            ]
          },
          "metadata": {
            "tags": []
          }
        }
      ]
    },
    {
      "cell_type": "code",
      "metadata": {
        "id": "fS2Ah59mEe78",
        "colab_type": "code",
        "outputId": "ef264fc6-3d26-4f14-d7d6-2a8b5a17b0f5",
        "colab": {
          "base_uri": "https://localhost:8080/",
          "height": 282
        }
      },
      "source": [
        "df_avgs.boxplot(\"reb\")"
      ],
      "execution_count": 0,
      "outputs": [
        {
          "output_type": "execute_result",
          "data": {
            "text/plain": [
              "<matplotlib.axes._subplots.AxesSubplot at 0x7f27deee4ac8>"
            ]
          },
          "metadata": {
            "tags": []
          },
          "execution_count": 17
        },
        {
          "output_type": "display_data",
          "data": {
            "image/png": "[encoded data removed]",
            "text/plain": [
              "<Figure size 432x288 with 1 Axes>"
            ]
          },
          "metadata": {
            "tags": []
          }
        }
      ]
    },
    {
      "cell_type": "markdown",
      "metadata": {
        "id": "TjmimdU-hYgR",
        "colab_type": "text"
      },
      "source": [
        "We see that the upward trend towards the higher height values is more noticeable in the red scatterplot, adjusted for minutes played, compared to the blue scatterplot, not adjusted for minutes played. This could be simply because, as evidenced from the boxplot, the variability of rebounds per game is relatively low, but it contains quite a few outliers on the higher end. Those outliers could correspond to players who are taller."
      ]
    },
    {
      "cell_type": "code",
      "metadata": {
        "id": "PJ1jxexuNpt0",
        "colab_type": "code",
        "outputId": "68f3d297-c697-42b6-ea6d-0ed224123482",
        "colab": {
          "base_uri": "https://localhost:8080/",
          "height": 791
        }
      },
      "source": [
        "df_avgs_per_min.plot.scatter(x=\"height (cm)\", y=\"blk\",\n",
        "                             title=\"Player Height vs Blocks per Game (Adjusted)\",\n",
        "                             c=\"red\",\n",
        "                             figsize=(8, 6))\n",
        "plot_line_2(\"height (cm)\", \"blk\")\n",
        "df_avgs.plot.scatter(x=\"height (cm)\", y=\"blk\",\n",
        "                     title=\"Player Height vs Blocks per Game\",\n",
        "                     figsize=(8, 6))\n",
        "plot_line(\"height (cm)\", \"blk\")"
      ],
      "execution_count": 0,
      "outputs": [
        {
          "output_type": "display_data",
          "data": {
            "image/png": "[encoded data removed]",
            "text/plain": [
              "<Figure size 576x432 with 1 Axes>"
            ]
          },
          "metadata": {
            "tags": []
          }
        },
        {
          "output_type": "display_data",
          "data": {
            "image/png": "[encoded data removed]",
            "text/plain": [
              "<Figure size 576x432 with 1 Axes>"
            ]
          },
          "metadata": {
            "tags": []
          }
        }
      ]
    },
    {
      "cell_type": "markdown",
      "metadata": {
        "id": "fIFWvCshh6EF",
        "colab_type": "text"
      },
      "source": [
        "Because the blocks correlation coefficient barely increased upon adjusting, it is not as easy to notice the difference visually."
      ]
    },
    {
      "cell_type": "code",
      "metadata": {
        "id": "jD2c8pv2Kr2Y",
        "colab_type": "code",
        "outputId": "cb3e0922-0229-4005-bba3-ddda4b2dd6ee",
        "colab": {
          "base_uri": "https://localhost:8080/",
          "height": 791
        }
      },
      "source": [
        "df_avgs_per_min.plot.scatter(x=\"height (cm)\", y=\"fg_pct\",\n",
        "                             title=\"Player Height vs Field Goal Percentage (Adjusted)\",\n",
        "                             c=\"red\",\n",
        "                             figsize=(8, 6))\n",
        "plot_line_2(\"height (cm)\", \"fg_pct\")\n",
        "df_avgs.plot.scatter(x=\"height (cm)\", y=\"fg_pct\",\n",
        "                     title=\"Player Height vs Field Goal Percentage\",\n",
        "                     figsize=(8, 6))\n",
        "plot_line(\"height (cm)\", \"fg_pct\")"
      ],
      "execution_count": 0,
      "outputs": [
        {
          "output_type": "display_data",
          "data": {
            "image/png": "[encoded data removed]",
            "text/plain": [
              "<Figure size 576x432 with 1 Axes>"
            ]
          },
          "metadata": {
            "tags": []
          }
        },
        {
          "output_type": "display_data",
          "data": {
            "image/png": "[encoded data removed]",
            "text/plain": [
              "<Figure size 576x432 with 1 Axes>"
            ]
          },
          "metadata": {
            "tags": []
          }
        }
      ]
    },
    {
      "cell_type": "markdown",
      "metadata": {
        "id": "9W3VfwxmiCnX",
        "colab_type": "text"
      },
      "source": [
        "Adjusting for minutes played decreased every player's field goal percentage dramatically. Because those were all decreased, but the heights remained the same, the correlation strength decreased as well. This suggests that our method of adjusting by dividing by the minutes played is not appropriate for certain statistics, including field goal percentage. Since field goal percentage is the ratio of field goals made over field goals attempted, dividing by average time played per game might be an undesirable transformation of the ratios. This is because field goal percentage should generally be independent of minutes per game, since it is just the ratio of field goals made to field goals attempted."
      ]
    },
    {
      "cell_type": "markdown",
      "metadata": {
        "id": "jLvK9xx450G1",
        "colab_type": "text"
      },
      "source": [
        "Let's see if segmenting the data by different height cutoffs causes stronger relationships to emerge between height and the other variables."
      ]
    },
    {
      "cell_type": "code",
      "metadata": {
        "id": "dMUbLRPcJPbo",
        "colab_type": "code",
        "outputId": "243d56bf-e7f6-4755-9772-889cea211978",
        "colab": {
          "base_uri": "https://localhost:8080/",
          "height": 357
        }
      },
      "source": [
        "df_more = df_avgs_per_min[df_avgs_per_min[\"height (cm)\"] >=\n",
        "                            df_avgs_per_min[\"height (cm)\"].quantile(0.75)]\n",
        "df_more.corr()[\"height (cm)\"].sort_values(ascending=False)"
      ],
      "execution_count": 0,
      "outputs": [
        {
          "output_type": "execute_result",
          "data": {
            "text/plain": [
              "height (cm)    1.000000\n",
              "fta            0.263524\n",
              "ftm            0.243866\n",
              "turnover       0.233473\n",
              "reb            0.212321\n",
              "oreb           0.194730\n",
              "dreb           0.162837\n",
              "pts            0.127013\n",
              "fgm            0.114755\n",
              "ast            0.095099\n",
              "pf             0.038462\n",
              "stl            0.019896\n",
              "blk            0.011328\n",
              "fga            0.004366\n",
              "fg3_pct       -0.018980\n",
              "fg_pct        -0.142808\n",
              "ft_pct        -0.164717\n",
              "fg3m          -0.190758\n",
              "fg3a          -0.223284\n",
              "Name: height (cm), dtype: float64"
            ]
          },
          "metadata": {
            "tags": []
          },
          "execution_count": 20
        }
      ]
    },
    {
      "cell_type": "code",
      "metadata": {
        "id": "pt84tISf59Co",
        "colab_type": "code",
        "outputId": "c8726c89-faf4-4186-c288-909455d9757e",
        "colab": {
          "base_uri": "https://localhost:8080/",
          "height": 357
        }
      },
      "source": [
        "df_less = df_avgs_per_min[df_avgs_per_min[\"height (cm)\"] <=\n",
        "                            df_avgs_per_min[\"height (cm)\"].quantile(0.25)]\n",
        "df_less.corr()[\"height (cm)\"].sort_values(ascending=False)"
      ],
      "execution_count": 0,
      "outputs": [
        {
          "output_type": "execute_result",
          "data": {
            "text/plain": [
              "height (cm)    1.000000\n",
              "fg_pct         0.242038\n",
              "pf             0.231084\n",
              "ft_pct         0.216033\n",
              "fg3_pct        0.215440\n",
              "blk            0.213620\n",
              "fg3a           0.071615\n",
              "fg3m           0.046259\n",
              "dreb           0.028001\n",
              "reb            0.020951\n",
              "fga            0.006705\n",
              "oreb          -0.012180\n",
              "fgm           -0.014106\n",
              "pts           -0.015764\n",
              "fta           -0.016948\n",
              "ftm           -0.048815\n",
              "stl           -0.101837\n",
              "turnover      -0.129553\n",
              "ast           -0.511210\n",
              "Name: height (cm), dtype: float64"
            ]
          },
          "metadata": {
            "tags": []
          },
          "execution_count": 21
        }
      ]
    },
    {
      "cell_type": "code",
      "metadata": {
        "id": "YLJoodg06p8O",
        "colab_type": "code",
        "outputId": "5b871606-533f-4d9c-dd55-36a83f04ce47",
        "colab": {
          "base_uri": "https://localhost:8080/",
          "height": 357
        }
      },
      "source": [
        "df_middle = df_avgs_per_min[(df_avgs_per_min[\"height (cm)\"] > \n",
        "                              df_avgs_per_min[\"height (cm)\"].quantile(0.25)) & \n",
        "                              (df_avgs_per_min[\"height (cm)\"] <\n",
        "                              df_avgs_per_min[\"height (cm)\"].quantile(0.75))]\n",
        "df_middle.corr()[\"height (cm)\"].sort_values(ascending=False)"
      ],
      "execution_count": 0,
      "outputs": [
        {
          "output_type": "execute_result",
          "data": {
            "text/plain": [
              "height (cm)    1.000000\n",
              "reb            0.595875\n",
              "dreb           0.511490\n",
              "oreb           0.500574\n",
              "blk            0.307239\n",
              "fgm            0.160307\n",
              "fta            0.110139\n",
              "pts            0.093312\n",
              "ftm            0.085147\n",
              "turnover       0.042999\n",
              "fg_pct         0.037716\n",
              "pf             0.022692\n",
              "stl            0.004931\n",
              "fga           -0.031610\n",
              "ft_pct        -0.098006\n",
              "ast           -0.114811\n",
              "fg3_pct       -0.216308\n",
              "fg3m          -0.230447\n",
              "fg3a          -0.248696\n",
              "Name: height (cm), dtype: float64"
            ]
          },
          "metadata": {
            "tags": []
          },
          "execution_count": 22
        }
      ]
    },
    {
      "cell_type": "markdown",
      "metadata": {
        "id": "V-5AbUGI-ZUM",
        "colab_type": "text"
      },
      "source": [
        "These also don't reveal any strong relationships between the height of an NBA player and their performance."
      ]
    },
    {
      "cell_type": "markdown",
      "metadata": {
        "id": "n2fSu1SK-lB7",
        "colab_type": "text"
      },
      "source": [
        "However, recall that we are trying to predict a player's height based on multiple statistics. So far, all of our analyses have focused on a single variable's relationship with height. We should now start combining variables, such as the player's position and some other quantitative variable, and see if there exists a relationship with height."
      ]
    },
    {
      "cell_type": "code",
      "metadata": {
        "id": "RAVXVtZjDX0n",
        "colab_type": "code",
        "outputId": "a7f272ce-f700-4d5e-bd02-b647689fcae1",
        "colab": {
          "base_uri": "https://localhost:8080/",
          "height": 677
        }
      },
      "source": [
        "df_avgs.boxplot(\"pts\", by=\"player_position\",\n",
        "                figsize=(15, 10))"
      ],
      "execution_count": 0,
      "outputs": [
        {
          "output_type": "execute_result",
          "data": {
            "text/plain": [
              "<matplotlib.axes._subplots.AxesSubplot at 0x7f27ded35c18>"
            ]
          },
          "metadata": {
            "tags": []
          },
          "execution_count": 23
        },
        {
          "output_type": "display_data",
          "data": {
            "image/png": "[encoded data removed]",
            "text/plain": [
              "<Figure size 1080x720 with 1 Axes>"
            ]
          },
          "metadata": {
            "tags": []
          }
        }
      ]
    },
    {
      "cell_type": "markdown",
      "metadata": {
        "id": "IkNHqDxvIoGM",
        "colab_type": "text"
      },
      "source": [
        "From the boxplot above, it seems that the number of points per game for each position is roughly centered around the same value, albeit with varying ranges/variations. Because we know there is some relationship between the position a player plays and their height, and because the centers of the boxes in the boxplot are roughly the same, we expect there to be a be a somewhat stronger correlation between height and points per game when we groupby the position."
      ]
    },
    {
      "cell_type": "code",
      "metadata": {
        "id": "fjuUlrk1_3TO",
        "colab_type": "code",
        "outputId": "d16af321-b545-4f6d-a784-ced3b76b6710",
        "colab": {
          "base_uri": "https://localhost:8080/",
          "height": 187
        }
      },
      "source": [
        "print(df_avgs[\"height (cm)\"].corr(df_avgs[\"pts\"]))\n",
        "df_avgs.groupby(\"player_position\")[\"height (cm)\"].corr(df_avgs[\"pts\"])"
      ],
      "execution_count": 0,
      "outputs": [
        {
          "output_type": "stream",
          "text": [
            "-0.009576405389732414\n"
          ],
          "name": "stdout"
        },
        {
          "output_type": "execute_result",
          "data": {
            "text/plain": [
              "player_position\n",
              "C      0.181161\n",
              "C-F    0.587200\n",
              "F      0.184263\n",
              "F-C   -0.249365\n",
              "F-G    1.000000\n",
              "G     -0.030488\n",
              "G-F    0.338193\n",
              "Name: height (cm), dtype: float64"
            ]
          },
          "metadata": {
            "tags": []
          },
          "execution_count": 24
        }
      ]
    },
    {
      "cell_type": "markdown",
      "metadata": {
        "id": "XkdGvPAbG3bG",
        "colab_type": "text"
      },
      "source": [
        "It seems we were correct. Compared to earlier, when we saw no actual relation between points per game and the height of a player, we now notice that there are some low to moderate strength correlations which emerge when we segregate the data into groups based on player position. Let's view the scatter plot for the position with the highest strength of relationship, or C-F."
      ]
    },
    {
      "cell_type": "code",
      "metadata": {
        "id": "_6WcxuNFHevR",
        "colab_type": "code",
        "outputId": "19fb77e3-b6b3-491e-fd4f-7c69043ebf8d",
        "colab": {
          "base_uri": "https://localhost:8080/",
          "height": 421
        }
      },
      "source": [
        "data = df_avgs[df_avgs[\"player_position\"] == \"C-F\"]\n",
        "data.plot.scatter(x=\"height (cm)\", y=\"pts\",\n",
        "                     title=\"Player Height vs Points per Game (Position C-F)\",\n",
        "                     c=\"green\",\n",
        "                     figsize=(8, 6))"
      ],
      "execution_count": 0,
      "outputs": [
        {
          "output_type": "execute_result",
          "data": {
            "text/plain": [
              "<matplotlib.axes._subplots.AxesSubplot at 0x7f27dec54fd0>"
            ]
          },
          "metadata": {
            "tags": []
          },
          "execution_count": 25
        },
        {
          "output_type": "display_data",
          "data": {
            "image/png": "[encoded data removed]",
            "text/plain": [
              "<Figure size 576x432 with 1 Axes>"
            ]
          },
          "metadata": {
            "tags": []
          }
        }
      ]
    },
    {
      "cell_type": "markdown",
      "metadata": {
        "id": "Vg9VT4iCH33X",
        "colab_type": "text"
      },
      "source": [
        "Unfortunately, it appears that the strength of the relationship is only stronger for this position because of the small sample size. Nevertheless, the various points per game correlations for each position are all stronger than the collective points per game and height correlation. Therefore, it still lends credence to the idea that combining multiple statistics will be a better predictor of height."
      ]
    },
    {
      "cell_type": "markdown",
      "metadata": {
        "id": "dVgElusnu-mU",
        "colab_type": "text"
      },
      "source": [
        "Next, instead of scatterplots, let's make good old fashioned line plots of the centers of the statistics we have focused on. Note that we can do this (by using groupby) because the height (cm) is not exactly continuous, since we created it by multiplying the number of inches by 2.54. As a result, there should be multiple players with the same value for height (cm) in our dataframe."
      ]
    },
    {
      "cell_type": "code",
      "metadata": {
        "id": "blzF5LEYuB2x",
        "colab_type": "code",
        "outputId": "da7707af-7bd6-402e-ed94-c24288eb3dcc",
        "colab": {
          "base_uri": "https://localhost:8080/",
          "height": 421
        }
      },
      "source": [
        "df_avgs.groupby(\"height (cm)\")[\"pts\"].median().plot.line(title=\"Median Points per Game per Height\",\n",
        "                                                         figsize=(8, 6))"
      ],
      "execution_count": 0,
      "outputs": [
        {
          "output_type": "execute_result",
          "data": {
            "text/plain": [
              "<matplotlib.axes._subplots.AxesSubplot at 0x7f27debc16d8>"
            ]
          },
          "metadata": {
            "tags": []
          },
          "execution_count": 26
        },
        {
          "output_type": "display_data",
          "data": {
            "image/png": "[encoded data removed]",
            "text/plain": [
              "<Figure size 576x432 with 1 Axes>"
            ]
          },
          "metadata": {
            "tags": []
          }
        }
      ]
    },
    {
      "cell_type": "code",
      "metadata": {
        "id": "3qWb4p7msIOY",
        "colab_type": "code",
        "outputId": "c2510071-53f7-40c9-dd41-614be6d9b716",
        "colab": {
          "base_uri": "https://localhost:8080/",
          "height": 421
        }
      },
      "source": [
        "df_avgs.groupby(\"height (cm)\")[\"reb\"].median().plot.line(title=\"Median Rebounds per Height\",\n",
        "                                                         figsize=(8, 6))"
      ],
      "execution_count": 0,
      "outputs": [
        {
          "output_type": "execute_result",
          "data": {
            "text/plain": [
              "<matplotlib.axes._subplots.AxesSubplot at 0x7f27debae3c8>"
            ]
          },
          "metadata": {
            "tags": []
          },
          "execution_count": 27
        },
        {
          "output_type": "display_data",
          "data": {
            "image/png": "[encoded data removed]",
            "text/plain": [
              "<Figure size 576x432 with 1 Axes>"
            ]
          },
          "metadata": {
            "tags": []
          }
        }
      ]
    },
    {
      "cell_type": "code",
      "metadata": {
        "id": "GBvGvA-iuHAQ",
        "colab_type": "code",
        "outputId": "a46a4f9d-2b1c-47fd-dd07-c697fd552ff1",
        "colab": {
          "base_uri": "https://localhost:8080/",
          "height": 421
        }
      },
      "source": [
        "df_avgs.groupby(\"height (cm)\")[\"blk\"].median().plot.line(title=\"Median Blocks per Height\",\n",
        "                                                         figsize=(8, 6))"
      ],
      "execution_count": 0,
      "outputs": [
        {
          "output_type": "execute_result",
          "data": {
            "text/plain": [
              "<matplotlib.axes._subplots.AxesSubplot at 0x7f27ded06b00>"
            ]
          },
          "metadata": {
            "tags": []
          },
          "execution_count": 28
        },
        {
          "output_type": "display_data",
          "data": {
            "image/png": "[encoded data removed]",
            "text/plain": [
              "<Figure size 576x432 with 1 Axes>"
            ]
          },
          "metadata": {
            "tags": []
          }
        }
      ]
    },
    {
      "cell_type": "code",
      "metadata": {
        "id": "dt9ac1x5uIzJ",
        "colab_type": "code",
        "outputId": "33cc1346-ec9b-45dc-bdab-f4428784d52d",
        "colab": {
          "base_uri": "https://localhost:8080/",
          "height": 421
        }
      },
      "source": [
        "df_avgs.groupby(\"height (cm)\")[\"fg_pct\"].median().plot.line(title=\"Median Field Goal Percentage per Height\",\n",
        "                                                            figsize=(8, 6))"
      ],
      "execution_count": 0,
      "outputs": [
        {
          "output_type": "execute_result",
          "data": {
            "text/plain": [
              "<matplotlib.axes._subplots.AxesSubplot at 0x7f27dee31630>"
            ]
          },
          "metadata": {
            "tags": []
          },
          "execution_count": 29
        },
        {
          "output_type": "display_data",
          "data": {
            "image/png": "[encoded data removed]",
            "text/plain": [
              "<Figure size 576x432 with 1 Axes>"
            ]
          },
          "metadata": {
            "tags": []
          }
        }
      ]
    },
    {
      "cell_type": "markdown",
      "metadata": {
        "id": "guGN9LrS5Pbj",
        "colab_type": "text"
      },
      "source": [
        "These graphs mostly depict what we already know: how there is no correlation between points per game and height, and how there is a general positive relationship between height and rebounds per game, blocks per game, and field goal percentage. However, this is in an arguably more intuitive format, and shows how much variability remains in height when only relating it to a single variable at a time."
      ]
    },
    {
      "cell_type": "markdown",
      "metadata": {
        "id": "lKSavVmANDzA",
        "colab_type": "text"
      },
      "source": [
        "Finally, let's take a look at the correlation between the remaining variables we started with, rebounds, blocks, and field goal percentage, and the height of a player when segregated by the player's position."
      ]
    },
    {
      "cell_type": "code",
      "metadata": {
        "id": "VmTR6j7XMs27",
        "colab_type": "code",
        "outputId": "e90967d3-08dc-4489-8cee-365144b6827b",
        "colab": {
          "base_uri": "https://localhost:8080/",
          "height": 187
        }
      },
      "source": [
        "print(df_avgs[\"height (cm)\"].corr(df_avgs[\"reb\"]))\n",
        "df_avgs.groupby(\"player_position\")[\"height (cm)\"].corr(df_avgs[\"reb\"])"
      ],
      "execution_count": 0,
      "outputs": [
        {
          "output_type": "stream",
          "text": [
            "0.4440260155431025\n"
          ],
          "name": "stdout"
        },
        {
          "output_type": "execute_result",
          "data": {
            "text/plain": [
              "player_position\n",
              "C      0.013506\n",
              "C-F    0.618215\n",
              "F      0.248982\n",
              "F-C   -0.205194\n",
              "F-G    1.000000\n",
              "G     -0.056596\n",
              "G-F    0.497990\n",
              "Name: height (cm), dtype: float64"
            ]
          },
          "metadata": {
            "tags": []
          },
          "execution_count": 30
        }
      ]
    },
    {
      "cell_type": "code",
      "metadata": {
        "id": "M8osCr1xMtSl",
        "colab_type": "code",
        "outputId": "bb25e59a-e551-47a2-ef98-e7e63c2e260c",
        "colab": {
          "base_uri": "https://localhost:8080/",
          "height": 187
        }
      },
      "source": [
        "print(df_avgs[\"height (cm)\"].corr(df_avgs[\"blk\"]))\n",
        "df_avgs.groupby(\"player_position\")[\"height (cm)\"].corr(df_avgs[\"blk\"])"
      ],
      "execution_count": 0,
      "outputs": [
        {
          "output_type": "stream",
          "text": [
            "0.5324333578492704\n"
          ],
          "name": "stdout"
        },
        {
          "output_type": "execute_result",
          "data": {
            "text/plain": [
              "player_position\n",
              "C      0.123099\n",
              "C-F    0.890840\n",
              "F      0.352278\n",
              "F-C   -0.258160\n",
              "F-G         NaN\n",
              "G      0.198036\n",
              "G-F    0.242446\n",
              "Name: height (cm), dtype: float64"
            ]
          },
          "metadata": {
            "tags": []
          },
          "execution_count": 31
        }
      ]
    },
    {
      "cell_type": "code",
      "metadata": {
        "id": "5nePOyOaMtlG",
        "colab_type": "code",
        "outputId": "834d7736-a5ba-471d-93a6-c8bb999a48e0",
        "colab": {
          "base_uri": "https://localhost:8080/",
          "height": 187
        }
      },
      "source": [
        "print(df_avgs[\"height (cm)\"].corr(df_avgs[\"fg_pct\"]))\n",
        "df_avgs.groupby(\"player_position\")[\"height (cm)\"].corr(df_avgs[\"fg_pct\"])"
      ],
      "execution_count": 0,
      "outputs": [
        {
          "output_type": "stream",
          "text": [
            "0.5162730919292913\n"
          ],
          "name": "stdout"
        },
        {
          "output_type": "execute_result",
          "data": {
            "text/plain": [
              "player_position\n",
              "C      0.036782\n",
              "C-F   -0.047732\n",
              "F      0.361537\n",
              "F-C   -0.675775\n",
              "F-G    1.000000\n",
              "G      0.011575\n",
              "G-F    0.496563\n",
              "Name: height (cm), dtype: float64"
            ]
          },
          "metadata": {
            "tags": []
          },
          "execution_count": 32
        }
      ]
    },
    {
      "cell_type": "markdown",
      "metadata": {
        "id": "zt-MrkLpNYvZ",
        "colab_type": "text"
      },
      "source": [
        "As opposed to points per game, whose collective correlation coefficient was abysmal, the correlation coefficients for these variables were much more indicative of a relationship. As a result, there was not a stronger correlation across the board for each position for any of these variables. However, we do see interesting facets to this data and how different player positions have different trends with respect to height. For example, we notice that the field goal percentage for position F-C is actually a moderately strong relationship in the negative direction (r=-0.675), which is in wild contrast to the overall correlation which is moderately strong in the positive direction (r=0.516). Throughout this notebook, we have examined that no single variable would be a good predictor of player height.However, because we notice the changes in these trends with respect to player position, we can be pretty confident that a machine learning model which incorporates multiple variables, including player position, will be able to determine the height of a player. This is despite the fact that the relationship between height and a single statistic is either moderately strong at best or nonexistent at worst."
      ]
    },
    {
      "cell_type": "code",
      "metadata": {
        "id": "--dawbWNwhH8",
        "colab_type": "code",
        "outputId": "93c86cca-ca14-4e48-b98e-d729779c8c67",
        "colab": {
          "base_uri": "https://localhost:8080/",
          "height": 456
        }
      },
      "source": [
        "# Below is code we implemented to try and evaluate how multiple quantitative\n",
        "# variables together correlate with height by standardizing them and then\n",
        "# multiplying their standardized values; no new insight was gained so its\n",
        "# analysis/discussion is left out\n",
        "from sklearn.preprocessing import StandardScaler\n",
        "\n",
        "df_copy = df_avgs[df_avgs.select_dtypes(exclude=\"object\").columns[3:27]]\n",
        "df_copy"
      ],
      "execution_count": 0,
      "outputs": [
        {
          "output_type": "execute_result",
          "data": {
            "text/html": [
              "<div>\n",
              "<style scoped>\n",
              "    .dataframe tbody tr th:only-of-type {\n",
              "        vertical-align: middle;\n",
              "    }\n",
              "\n",
              "    .dataframe tbody tr th {\n",
              "        vertical-align: top;\n",
              "    }\n",
              "\n",
              "    .dataframe thead th {\n",
              "        text-align: right;\n",
              "    }\n",
              "</style>\n",
              "<table border=\"1\" class=\"dataframe\">\n",
              "  <thead>\n",
              "    <tr style=\"text-align: right;\">\n",
              "      <th></th>\n",
              "      <th>fgm</th>\n",
              "      <th>fga</th>\n",
              "      <th>fg3m</th>\n",
              "      <th>fg3a</th>\n",
              "      <th>ftm</th>\n",
              "      <th>fta</th>\n",
              "      <th>oreb</th>\n",
              "      <th>dreb</th>\n",
              "      <th>reb</th>\n",
              "      <th>ast</th>\n",
              "      <th>stl</th>\n",
              "      <th>blk</th>\n",
              "      <th>turnover</th>\n",
              "      <th>pf</th>\n",
              "      <th>pts</th>\n",
              "      <th>fg_pct</th>\n",
              "      <th>fg3_pct</th>\n",
              "      <th>ft_pct</th>\n",
              "      <th>player_height_ft</th>\n",
              "      <th>player_height_in</th>\n",
              "      <th>player_weight</th>\n",
              "      <th>height (cm)</th>\n",
              "      <th>minutes/gm</th>\n",
              "      <th>sec</th>\n",
              "    </tr>\n",
              "  </thead>\n",
              "  <tbody>\n",
              "    <tr>\n",
              "      <th>0</th>\n",
              "      <td>6.01</td>\n",
              "      <td>10.09</td>\n",
              "      <td>0.00</td>\n",
              "      <td>0.03</td>\n",
              "      <td>1.83</td>\n",
              "      <td>3.65</td>\n",
              "      <td>4.89</td>\n",
              "      <td>4.61</td>\n",
              "      <td>9.50</td>\n",
              "      <td>1.55</td>\n",
              "      <td>1.48</td>\n",
              "      <td>0.95</td>\n",
              "      <td>1.71</td>\n",
              "      <td>2.55</td>\n",
              "      <td>13.85</td>\n",
              "      <td>0.596</td>\n",
              "      <td>0.000</td>\n",
              "      <td>0.500</td>\n",
              "      <td>7.0</td>\n",
              "      <td>0.0</td>\n",
              "      <td>265.0</td>\n",
              "      <td>213.36</td>\n",
              "      <td>33.316667</td>\n",
              "      <td>1999.0</td>\n",
              "    </tr>\n",
              "    <tr>\n",
              "      <th>1</th>\n",
              "      <td>8.44</td>\n",
              "      <td>16.28</td>\n",
              "      <td>0.12</td>\n",
              "      <td>0.52</td>\n",
              "      <td>4.31</td>\n",
              "      <td>5.09</td>\n",
              "      <td>3.11</td>\n",
              "      <td>6.09</td>\n",
              "      <td>9.20</td>\n",
              "      <td>2.40</td>\n",
              "      <td>0.53</td>\n",
              "      <td>1.32</td>\n",
              "      <td>1.78</td>\n",
              "      <td>2.21</td>\n",
              "      <td>21.32</td>\n",
              "      <td>0.519</td>\n",
              "      <td>0.238</td>\n",
              "      <td>0.847</td>\n",
              "      <td>6.0</td>\n",
              "      <td>11.0</td>\n",
              "      <td>260.0</td>\n",
              "      <td>210.82</td>\n",
              "      <td>33.166667</td>\n",
              "      <td>1990.0</td>\n",
              "    </tr>\n",
              "    <tr>\n",
              "      <th>2</th>\n",
              "      <td>1.40</td>\n",
              "      <td>3.71</td>\n",
              "      <td>0.67</td>\n",
              "      <td>2.06</td>\n",
              "      <td>0.94</td>\n",
              "      <td>1.25</td>\n",
              "      <td>0.06</td>\n",
              "      <td>0.44</td>\n",
              "      <td>0.50</td>\n",
              "      <td>0.52</td>\n",
              "      <td>0.10</td>\n",
              "      <td>0.13</td>\n",
              "      <td>0.69</td>\n",
              "      <td>0.98</td>\n",
              "      <td>4.40</td>\n",
              "      <td>0.376</td>\n",
              "      <td>0.323</td>\n",
              "      <td>0.750</td>\n",
              "      <td>6.0</td>\n",
              "      <td>5.0</td>\n",
              "      <td>198.0</td>\n",
              "      <td>195.58</td>\n",
              "      <td>8.666667</td>\n",
              "      <td>520.0</td>\n",
              "    </tr>\n",
              "    <tr>\n",
              "      <th>3</th>\n",
              "      <td>4.19</td>\n",
              "      <td>7.10</td>\n",
              "      <td>0.08</td>\n",
              "      <td>0.56</td>\n",
              "      <td>2.46</td>\n",
              "      <td>3.48</td>\n",
              "      <td>2.40</td>\n",
              "      <td>6.01</td>\n",
              "      <td>8.41</td>\n",
              "      <td>1.38</td>\n",
              "      <td>0.55</td>\n",
              "      <td>1.50</td>\n",
              "      <td>1.30</td>\n",
              "      <td>2.30</td>\n",
              "      <td>10.91</td>\n",
              "      <td>0.590</td>\n",
              "      <td>0.133</td>\n",
              "      <td>0.709</td>\n",
              "      <td>6.0</td>\n",
              "      <td>11.0</td>\n",
              "      <td>237.0</td>\n",
              "      <td>210.82</td>\n",
              "      <td>26.200000</td>\n",
              "      <td>1572.0</td>\n",
              "    </tr>\n",
              "    <tr>\n",
              "      <th>4</th>\n",
              "      <td>3.13</td>\n",
              "      <td>7.23</td>\n",
              "      <td>1.17</td>\n",
              "      <td>3.41</td>\n",
              "      <td>1.83</td>\n",
              "      <td>2.11</td>\n",
              "      <td>1.37</td>\n",
              "      <td>6.07</td>\n",
              "      <td>7.44</td>\n",
              "      <td>1.27</td>\n",
              "      <td>0.83</td>\n",
              "      <td>0.40</td>\n",
              "      <td>0.88</td>\n",
              "      <td>1.74</td>\n",
              "      <td>9.27</td>\n",
              "      <td>0.433</td>\n",
              "      <td>0.343</td>\n",
              "      <td>0.867</td>\n",
              "      <td>6.0</td>\n",
              "      <td>9.0</td>\n",
              "      <td>220.0</td>\n",
              "      <td>205.74</td>\n",
              "      <td>27.933333</td>\n",
              "      <td>1676.0</td>\n",
              "    </tr>\n",
              "    <tr>\n",
              "      <th>...</th>\n",
              "      <td>...</td>\n",
              "      <td>...</td>\n",
              "      <td>...</td>\n",
              "      <td>...</td>\n",
              "      <td>...</td>\n",
              "      <td>...</td>\n",
              "      <td>...</td>\n",
              "      <td>...</td>\n",
              "      <td>...</td>\n",
              "      <td>...</td>\n",
              "      <td>...</td>\n",
              "      <td>...</td>\n",
              "      <td>...</td>\n",
              "      <td>...</td>\n",
              "      <td>...</td>\n",
              "      <td>...</td>\n",
              "      <td>...</td>\n",
              "      <td>...</td>\n",
              "      <td>...</td>\n",
              "      <td>...</td>\n",
              "      <td>...</td>\n",
              "      <td>...</td>\n",
              "      <td>...</td>\n",
              "      <td>...</td>\n",
              "    </tr>\n",
              "    <tr>\n",
              "      <th>205</th>\n",
              "      <td>1.00</td>\n",
              "      <td>2.00</td>\n",
              "      <td>0.00</td>\n",
              "      <td>0.00</td>\n",
              "      <td>0.00</td>\n",
              "      <td>0.67</td>\n",
              "      <td>0.67</td>\n",
              "      <td>0.33</td>\n",
              "      <td>1.00</td>\n",
              "      <td>0.33</td>\n",
              "      <td>0.00</td>\n",
              "      <td>0.33</td>\n",
              "      <td>1.00</td>\n",
              "      <td>2.00</td>\n",
              "      <td>2.00</td>\n",
              "      <td>0.500</td>\n",
              "      <td>0.000</td>\n",
              "      <td>0.000</td>\n",
              "      <td>NaN</td>\n",
              "      <td>NaN</td>\n",
              "      <td>NaN</td>\n",
              "      <td>NaN</td>\n",
              "      <td>4.250000</td>\n",
              "      <td>255.0</td>\n",
              "    </tr>\n",
              "    <tr>\n",
              "      <th>206</th>\n",
              "      <td>0.43</td>\n",
              "      <td>1.00</td>\n",
              "      <td>0.14</td>\n",
              "      <td>0.14</td>\n",
              "      <td>0.00</td>\n",
              "      <td>0.00</td>\n",
              "      <td>0.57</td>\n",
              "      <td>2.29</td>\n",
              "      <td>2.86</td>\n",
              "      <td>0.57</td>\n",
              "      <td>0.14</td>\n",
              "      <td>0.14</td>\n",
              "      <td>0.71</td>\n",
              "      <td>1.29</td>\n",
              "      <td>1.00</td>\n",
              "      <td>0.429</td>\n",
              "      <td>1.000</td>\n",
              "      <td>0.000</td>\n",
              "      <td>NaN</td>\n",
              "      <td>NaN</td>\n",
              "      <td>NaN</td>\n",
              "      <td>NaN</td>\n",
              "      <td>6.166667</td>\n",
              "      <td>370.0</td>\n",
              "    </tr>\n",
              "    <tr>\n",
              "      <th>207</th>\n",
              "      <td>0.87</td>\n",
              "      <td>2.10</td>\n",
              "      <td>0.30</td>\n",
              "      <td>0.93</td>\n",
              "      <td>0.43</td>\n",
              "      <td>0.50</td>\n",
              "      <td>0.23</td>\n",
              "      <td>1.37</td>\n",
              "      <td>1.60</td>\n",
              "      <td>0.97</td>\n",
              "      <td>0.77</td>\n",
              "      <td>0.10</td>\n",
              "      <td>0.57</td>\n",
              "      <td>1.27</td>\n",
              "      <td>2.47</td>\n",
              "      <td>0.413</td>\n",
              "      <td>0.321</td>\n",
              "      <td>0.867</td>\n",
              "      <td>6.0</td>\n",
              "      <td>7.0</td>\n",
              "      <td>185.0</td>\n",
              "      <td>200.66</td>\n",
              "      <td>13.233333</td>\n",
              "      <td>794.0</td>\n",
              "    </tr>\n",
              "    <tr>\n",
              "      <th>208</th>\n",
              "      <td>2.95</td>\n",
              "      <td>6.30</td>\n",
              "      <td>1.85</td>\n",
              "      <td>4.45</td>\n",
              "      <td>1.40</td>\n",
              "      <td>1.78</td>\n",
              "      <td>0.63</td>\n",
              "      <td>2.88</td>\n",
              "      <td>3.50</td>\n",
              "      <td>1.00</td>\n",
              "      <td>0.53</td>\n",
              "      <td>0.28</td>\n",
              "      <td>0.88</td>\n",
              "      <td>2.00</td>\n",
              "      <td>9.15</td>\n",
              "      <td>0.468</td>\n",
              "      <td>0.416</td>\n",
              "      <td>0.789</td>\n",
              "      <td>6.0</td>\n",
              "      <td>7.0</td>\n",
              "      <td>220.0</td>\n",
              "      <td>200.66</td>\n",
              "      <td>24.466667</td>\n",
              "      <td>1468.0</td>\n",
              "    </tr>\n",
              "    <tr>\n",
              "      <th>209</th>\n",
              "      <td>0.50</td>\n",
              "      <td>1.18</td>\n",
              "      <td>0.45</td>\n",
              "      <td>0.95</td>\n",
              "      <td>0.14</td>\n",
              "      <td>0.18</td>\n",
              "      <td>0.05</td>\n",
              "      <td>0.18</td>\n",
              "      <td>0.23</td>\n",
              "      <td>0.05</td>\n",
              "      <td>0.05</td>\n",
              "      <td>0.05</td>\n",
              "      <td>0.05</td>\n",
              "      <td>0.23</td>\n",
              "      <td>1.59</td>\n",
              "      <td>0.423</td>\n",
              "      <td>0.476</td>\n",
              "      <td>0.750</td>\n",
              "      <td>NaN</td>\n",
              "      <td>NaN</td>\n",
              "      <td>NaN</td>\n",
              "      <td>NaN</td>\n",
              "      <td>3.050000</td>\n",
              "      <td>183.0</td>\n",
              "    </tr>\n",
              "  </tbody>\n",
              "</table>\n",
              "<p>210 rows × 24 columns</p>\n",
              "</div>"
            ],
            "text/plain": [
              "      fgm    fga  fg3m  fg3a  ...  player_weight  height (cm)  minutes/gm     sec\n",
              "0    6.01  10.09  0.00  0.03  ...          265.0       213.36   33.316667  1999.0\n",
              "1    8.44  16.28  0.12  0.52  ...          260.0       210.82   33.166667  1990.0\n",
              "2    1.40   3.71  0.67  2.06  ...          198.0       195.58    8.666667   520.0\n",
              "3    4.19   7.10  0.08  0.56  ...          237.0       210.82   26.200000  1572.0\n",
              "4    3.13   7.23  1.17  3.41  ...          220.0       205.74   27.933333  1676.0\n",
              "..    ...    ...   ...   ...  ...            ...          ...         ...     ...\n",
              "205  1.00   2.00  0.00  0.00  ...            NaN          NaN    4.250000   255.0\n",
              "206  0.43   1.00  0.14  0.14  ...            NaN          NaN    6.166667   370.0\n",
              "207  0.87   2.10  0.30  0.93  ...          185.0       200.66   13.233333   794.0\n",
              "208  2.95   6.30  1.85  4.45  ...          220.0       200.66   24.466667  1468.0\n",
              "209  0.50   1.18  0.45  0.95  ...            NaN          NaN    3.050000   183.0\n",
              "\n",
              "[210 rows x 24 columns]"
            ]
          },
          "metadata": {
            "tags": []
          },
          "execution_count": 33
        }
      ]
    },
    {
      "cell_type": "code",
      "metadata": {
        "id": "h0Q5ZXnSyy9E",
        "colab_type": "code",
        "outputId": "f50bdac4-41ed-4193-db3c-e1b85fa2c788",
        "colab": {
          "base_uri": "https://localhost:8080/",
          "height": 541
        }
      },
      "source": [
        "df_copy.dropna(inplace=True)\n",
        "df_copy"
      ],
      "execution_count": 0,
      "outputs": [
        {
          "output_type": "stream",
          "text": [
            "/usr/local/lib/python3.6/dist-packages/ipykernel_launcher.py:1: SettingWithCopyWarning: \n",
            "A value is trying to be set on a copy of a slice from a DataFrame\n",
            "\n",
            "See the caveats in the documentation: http://pandas.pydata.org/pandas-docs/stable/user_guide/indexing.html#returning-a-view-versus-a-copy\n",
            "  \"\"\"Entry point for launching an IPython kernel.\n"
          ],
          "name": "stderr"
        },
        {
          "output_type": "execute_result",
          "data": {
            "text/html": [
              "<div>\n",
              "<style scoped>\n",
              "    .dataframe tbody tr th:only-of-type {\n",
              "        vertical-align: middle;\n",
              "    }\n",
              "\n",
              "    .dataframe tbody tr th {\n",
              "        vertical-align: top;\n",
              "    }\n",
              "\n",
              "    .dataframe thead th {\n",
              "        text-align: right;\n",
              "    }\n",
              "</style>\n",
              "<table border=\"1\" class=\"dataframe\">\n",
              "  <thead>\n",
              "    <tr style=\"text-align: right;\">\n",
              "      <th></th>\n",
              "      <th>fgm</th>\n",
              "      <th>fga</th>\n",
              "      <th>fg3m</th>\n",
              "      <th>fg3a</th>\n",
              "      <th>ftm</th>\n",
              "      <th>fta</th>\n",
              "      <th>oreb</th>\n",
              "      <th>dreb</th>\n",
              "      <th>reb</th>\n",
              "      <th>ast</th>\n",
              "      <th>stl</th>\n",
              "      <th>blk</th>\n",
              "      <th>turnover</th>\n",
              "      <th>pf</th>\n",
              "      <th>pts</th>\n",
              "      <th>fg_pct</th>\n",
              "      <th>fg3_pct</th>\n",
              "      <th>ft_pct</th>\n",
              "      <th>player_height_ft</th>\n",
              "      <th>player_height_in</th>\n",
              "      <th>player_weight</th>\n",
              "      <th>height (cm)</th>\n",
              "      <th>minutes/gm</th>\n",
              "      <th>sec</th>\n",
              "    </tr>\n",
              "  </thead>\n",
              "  <tbody>\n",
              "    <tr>\n",
              "      <th>0</th>\n",
              "      <td>6.01</td>\n",
              "      <td>10.09</td>\n",
              "      <td>0.00</td>\n",
              "      <td>0.03</td>\n",
              "      <td>1.83</td>\n",
              "      <td>3.65</td>\n",
              "      <td>4.89</td>\n",
              "      <td>4.61</td>\n",
              "      <td>9.50</td>\n",
              "      <td>1.55</td>\n",
              "      <td>1.48</td>\n",
              "      <td>0.95</td>\n",
              "      <td>1.71</td>\n",
              "      <td>2.55</td>\n",
              "      <td>13.85</td>\n",
              "      <td>0.596</td>\n",
              "      <td>0.000</td>\n",
              "      <td>0.500</td>\n",
              "      <td>7.0</td>\n",
              "      <td>0.0</td>\n",
              "      <td>265.0</td>\n",
              "      <td>213.36</td>\n",
              "      <td>33.316667</td>\n",
              "      <td>1999.0</td>\n",
              "    </tr>\n",
              "    <tr>\n",
              "      <th>1</th>\n",
              "      <td>8.44</td>\n",
              "      <td>16.28</td>\n",
              "      <td>0.12</td>\n",
              "      <td>0.52</td>\n",
              "      <td>4.31</td>\n",
              "      <td>5.09</td>\n",
              "      <td>3.11</td>\n",
              "      <td>6.09</td>\n",
              "      <td>9.20</td>\n",
              "      <td>2.40</td>\n",
              "      <td>0.53</td>\n",
              "      <td>1.32</td>\n",
              "      <td>1.78</td>\n",
              "      <td>2.21</td>\n",
              "      <td>21.32</td>\n",
              "      <td>0.519</td>\n",
              "      <td>0.238</td>\n",
              "      <td>0.847</td>\n",
              "      <td>6.0</td>\n",
              "      <td>11.0</td>\n",
              "      <td>260.0</td>\n",
              "      <td>210.82</td>\n",
              "      <td>33.166667</td>\n",
              "      <td>1990.0</td>\n",
              "    </tr>\n",
              "    <tr>\n",
              "      <th>2</th>\n",
              "      <td>1.40</td>\n",
              "      <td>3.71</td>\n",
              "      <td>0.67</td>\n",
              "      <td>2.06</td>\n",
              "      <td>0.94</td>\n",
              "      <td>1.25</td>\n",
              "      <td>0.06</td>\n",
              "      <td>0.44</td>\n",
              "      <td>0.50</td>\n",
              "      <td>0.52</td>\n",
              "      <td>0.10</td>\n",
              "      <td>0.13</td>\n",
              "      <td>0.69</td>\n",
              "      <td>0.98</td>\n",
              "      <td>4.40</td>\n",
              "      <td>0.376</td>\n",
              "      <td>0.323</td>\n",
              "      <td>0.750</td>\n",
              "      <td>6.0</td>\n",
              "      <td>5.0</td>\n",
              "      <td>198.0</td>\n",
              "      <td>195.58</td>\n",
              "      <td>8.666667</td>\n",
              "      <td>520.0</td>\n",
              "    </tr>\n",
              "    <tr>\n",
              "      <th>3</th>\n",
              "      <td>4.19</td>\n",
              "      <td>7.10</td>\n",
              "      <td>0.08</td>\n",
              "      <td>0.56</td>\n",
              "      <td>2.46</td>\n",
              "      <td>3.48</td>\n",
              "      <td>2.40</td>\n",
              "      <td>6.01</td>\n",
              "      <td>8.41</td>\n",
              "      <td>1.38</td>\n",
              "      <td>0.55</td>\n",
              "      <td>1.50</td>\n",
              "      <td>1.30</td>\n",
              "      <td>2.30</td>\n",
              "      <td>10.91</td>\n",
              "      <td>0.590</td>\n",
              "      <td>0.133</td>\n",
              "      <td>0.709</td>\n",
              "      <td>6.0</td>\n",
              "      <td>11.0</td>\n",
              "      <td>237.0</td>\n",
              "      <td>210.82</td>\n",
              "      <td>26.200000</td>\n",
              "      <td>1572.0</td>\n",
              "    </tr>\n",
              "    <tr>\n",
              "      <th>4</th>\n",
              "      <td>3.13</td>\n",
              "      <td>7.23</td>\n",
              "      <td>1.17</td>\n",
              "      <td>3.41</td>\n",
              "      <td>1.83</td>\n",
              "      <td>2.11</td>\n",
              "      <td>1.37</td>\n",
              "      <td>6.07</td>\n",
              "      <td>7.44</td>\n",
              "      <td>1.27</td>\n",
              "      <td>0.83</td>\n",
              "      <td>0.40</td>\n",
              "      <td>0.88</td>\n",
              "      <td>1.74</td>\n",
              "      <td>9.27</td>\n",
              "      <td>0.433</td>\n",
              "      <td>0.343</td>\n",
              "      <td>0.867</td>\n",
              "      <td>6.0</td>\n",
              "      <td>9.0</td>\n",
              "      <td>220.0</td>\n",
              "      <td>205.74</td>\n",
              "      <td>27.933333</td>\n",
              "      <td>1676.0</td>\n",
              "    </tr>\n",
              "    <tr>\n",
              "      <th>...</th>\n",
              "      <td>...</td>\n",
              "      <td>...</td>\n",
              "      <td>...</td>\n",
              "      <td>...</td>\n",
              "      <td>...</td>\n",
              "      <td>...</td>\n",
              "      <td>...</td>\n",
              "      <td>...</td>\n",
              "      <td>...</td>\n",
              "      <td>...</td>\n",
              "      <td>...</td>\n",
              "      <td>...</td>\n",
              "      <td>...</td>\n",
              "      <td>...</td>\n",
              "      <td>...</td>\n",
              "      <td>...</td>\n",
              "      <td>...</td>\n",
              "      <td>...</td>\n",
              "      <td>...</td>\n",
              "      <td>...</td>\n",
              "      <td>...</td>\n",
              "      <td>...</td>\n",
              "      <td>...</td>\n",
              "      <td>...</td>\n",
              "    </tr>\n",
              "    <tr>\n",
              "      <th>201</th>\n",
              "      <td>0.67</td>\n",
              "      <td>1.48</td>\n",
              "      <td>0.17</td>\n",
              "      <td>0.54</td>\n",
              "      <td>0.29</td>\n",
              "      <td>0.42</td>\n",
              "      <td>0.44</td>\n",
              "      <td>0.58</td>\n",
              "      <td>1.02</td>\n",
              "      <td>0.29</td>\n",
              "      <td>0.15</td>\n",
              "      <td>0.13</td>\n",
              "      <td>0.29</td>\n",
              "      <td>0.62</td>\n",
              "      <td>1.81</td>\n",
              "      <td>0.455</td>\n",
              "      <td>0.321</td>\n",
              "      <td>0.682</td>\n",
              "      <td>6.0</td>\n",
              "      <td>8.0</td>\n",
              "      <td>260.0</td>\n",
              "      <td>203.20</td>\n",
              "      <td>4.816667</td>\n",
              "      <td>289.0</td>\n",
              "    </tr>\n",
              "    <tr>\n",
              "      <th>202</th>\n",
              "      <td>5.47</td>\n",
              "      <td>10.38</td>\n",
              "      <td>0.63</td>\n",
              "      <td>1.80</td>\n",
              "      <td>1.07</td>\n",
              "      <td>1.67</td>\n",
              "      <td>2.36</td>\n",
              "      <td>4.06</td>\n",
              "      <td>6.42</td>\n",
              "      <td>2.52</td>\n",
              "      <td>1.52</td>\n",
              "      <td>0.46</td>\n",
              "      <td>1.52</td>\n",
              "      <td>2.40</td>\n",
              "      <td>12.64</td>\n",
              "      <td>0.527</td>\n",
              "      <td>0.349</td>\n",
              "      <td>0.644</td>\n",
              "      <td>6.0</td>\n",
              "      <td>8.0</td>\n",
              "      <td>221.0</td>\n",
              "      <td>203.20</td>\n",
              "      <td>30.716667</td>\n",
              "      <td>1843.0</td>\n",
              "    </tr>\n",
              "    <tr>\n",
              "      <th>203</th>\n",
              "      <td>3.59</td>\n",
              "      <td>6.42</td>\n",
              "      <td>0.00</td>\n",
              "      <td>0.00</td>\n",
              "      <td>1.71</td>\n",
              "      <td>2.14</td>\n",
              "      <td>1.95</td>\n",
              "      <td>4.20</td>\n",
              "      <td>6.15</td>\n",
              "      <td>1.07</td>\n",
              "      <td>0.25</td>\n",
              "      <td>0.86</td>\n",
              "      <td>1.19</td>\n",
              "      <td>2.32</td>\n",
              "      <td>8.90</td>\n",
              "      <td>0.559</td>\n",
              "      <td>0.000</td>\n",
              "      <td>0.802</td>\n",
              "      <td>7.0</td>\n",
              "      <td>1.0</td>\n",
              "      <td>240.0</td>\n",
              "      <td>215.90</td>\n",
              "      <td>17.600000</td>\n",
              "      <td>1056.0</td>\n",
              "    </tr>\n",
              "    <tr>\n",
              "      <th>207</th>\n",
              "      <td>0.87</td>\n",
              "      <td>2.10</td>\n",
              "      <td>0.30</td>\n",
              "      <td>0.93</td>\n",
              "      <td>0.43</td>\n",
              "      <td>0.50</td>\n",
              "      <td>0.23</td>\n",
              "      <td>1.37</td>\n",
              "      <td>1.60</td>\n",
              "      <td>0.97</td>\n",
              "      <td>0.77</td>\n",
              "      <td>0.10</td>\n",
              "      <td>0.57</td>\n",
              "      <td>1.27</td>\n",
              "      <td>2.47</td>\n",
              "      <td>0.413</td>\n",
              "      <td>0.321</td>\n",
              "      <td>0.867</td>\n",
              "      <td>6.0</td>\n",
              "      <td>7.0</td>\n",
              "      <td>185.0</td>\n",
              "      <td>200.66</td>\n",
              "      <td>13.233333</td>\n",
              "      <td>794.0</td>\n",
              "    </tr>\n",
              "    <tr>\n",
              "      <th>208</th>\n",
              "      <td>2.95</td>\n",
              "      <td>6.30</td>\n",
              "      <td>1.85</td>\n",
              "      <td>4.45</td>\n",
              "      <td>1.40</td>\n",
              "      <td>1.78</td>\n",
              "      <td>0.63</td>\n",
              "      <td>2.88</td>\n",
              "      <td>3.50</td>\n",
              "      <td>1.00</td>\n",
              "      <td>0.53</td>\n",
              "      <td>0.28</td>\n",
              "      <td>0.88</td>\n",
              "      <td>2.00</td>\n",
              "      <td>9.15</td>\n",
              "      <td>0.468</td>\n",
              "      <td>0.416</td>\n",
              "      <td>0.789</td>\n",
              "      <td>6.0</td>\n",
              "      <td>7.0</td>\n",
              "      <td>220.0</td>\n",
              "      <td>200.66</td>\n",
              "      <td>24.466667</td>\n",
              "      <td>1468.0</td>\n",
              "    </tr>\n",
              "  </tbody>\n",
              "</table>\n",
              "<p>199 rows × 24 columns</p>\n",
              "</div>"
            ],
            "text/plain": [
              "      fgm    fga  fg3m  fg3a  ...  player_weight  height (cm)  minutes/gm     sec\n",
              "0    6.01  10.09  0.00  0.03  ...          265.0       213.36   33.316667  1999.0\n",
              "1    8.44  16.28  0.12  0.52  ...          260.0       210.82   33.166667  1990.0\n",
              "2    1.40   3.71  0.67  2.06  ...          198.0       195.58    8.666667   520.0\n",
              "3    4.19   7.10  0.08  0.56  ...          237.0       210.82   26.200000  1572.0\n",
              "4    3.13   7.23  1.17  3.41  ...          220.0       205.74   27.933333  1676.0\n",
              "..    ...    ...   ...   ...  ...            ...          ...         ...     ...\n",
              "201  0.67   1.48  0.17  0.54  ...          260.0       203.20    4.816667   289.0\n",
              "202  5.47  10.38  0.63  1.80  ...          221.0       203.20   30.716667  1843.0\n",
              "203  3.59   6.42  0.00  0.00  ...          240.0       215.90   17.600000  1056.0\n",
              "207  0.87   2.10  0.30  0.93  ...          185.0       200.66   13.233333   794.0\n",
              "208  2.95   6.30  1.85  4.45  ...          220.0       200.66   24.466667  1468.0\n",
              "\n",
              "[199 rows x 24 columns]"
            ]
          },
          "metadata": {
            "tags": []
          },
          "execution_count": 34
        }
      ]
    },
    {
      "cell_type": "code",
      "metadata": {
        "id": "jbmgbAIHxlU4",
        "colab_type": "code",
        "outputId": "77447c96-93d2-4c03-ae6c-fbe11019f1ca",
        "colab": {
          "base_uri": "https://localhost:8080/",
          "height": 456
        }
      },
      "source": [
        "scaler = StandardScaler()\n",
        "scaler.fit(df_copy)\n",
        "df_copy_st = scaler.transform(df_copy)\n",
        "\n",
        "df_copy_st = pd.DataFrame(df_copy_st, columns=df_avgs.select_dtypes(exclude=\"object\").columns[3:27])\n",
        "df_copy_st[\"height (cm)\"] = df_avgs[\"height (cm)\"]\n",
        "df_copy_st"
      ],
      "execution_count": 0,
      "outputs": [
        {
          "output_type": "execute_result",
          "data": {
            "text/html": [
              "<div>\n",
              "<style scoped>\n",
              "    .dataframe tbody tr th:only-of-type {\n",
              "        vertical-align: middle;\n",
              "    }\n",
              "\n",
              "    .dataframe tbody tr th {\n",
              "        vertical-align: top;\n",
              "    }\n",
              "\n",
              "    .dataframe thead th {\n",
              "        text-align: right;\n",
              "    }\n",
              "</style>\n",
              "<table border=\"1\" class=\"dataframe\">\n",
              "  <thead>\n",
              "    <tr style=\"text-align: right;\">\n",
              "      <th></th>\n",
              "      <th>fgm</th>\n",
              "      <th>fga</th>\n",
              "      <th>fg3m</th>\n",
              "      <th>fg3a</th>\n",
              "      <th>ftm</th>\n",
              "      <th>fta</th>\n",
              "      <th>oreb</th>\n",
              "      <th>dreb</th>\n",
              "      <th>reb</th>\n",
              "      <th>ast</th>\n",
              "      <th>stl</th>\n",
              "      <th>blk</th>\n",
              "      <th>turnover</th>\n",
              "      <th>pf</th>\n",
              "      <th>pts</th>\n",
              "      <th>fg_pct</th>\n",
              "      <th>fg3_pct</th>\n",
              "      <th>ft_pct</th>\n",
              "      <th>player_height_ft</th>\n",
              "      <th>player_height_in</th>\n",
              "      <th>player_weight</th>\n",
              "      <th>height (cm)</th>\n",
              "      <th>minutes/gm</th>\n",
              "      <th>sec</th>\n",
              "    </tr>\n",
              "  </thead>\n",
              "  <tbody>\n",
              "    <tr>\n",
              "      <th>0</th>\n",
              "      <td>0.963916</td>\n",
              "      <td>0.436225</td>\n",
              "      <td>-1.153815</td>\n",
              "      <td>-1.230736</td>\n",
              "      <td>0.145734</td>\n",
              "      <td>0.828810</td>\n",
              "      <td>4.663632</td>\n",
              "      <td>0.706356</td>\n",
              "      <td>1.980838</td>\n",
              "      <td>-0.360202</td>\n",
              "      <td>1.826368</td>\n",
              "      <td>1.100962</td>\n",
              "      <td>0.617068</td>\n",
              "      <td>0.940175</td>\n",
              "      <td>0.564473</td>\n",
              "      <td>1.848824</td>\n",
              "      <td>-2.648294</td>\n",
              "      <td>-1.968750</td>\n",
              "      <td>3.50238</td>\n",
              "      <td>-1.826189</td>\n",
              "      <td>2.017994</td>\n",
              "      <td>213.36</td>\n",
              "      <td>1.285812</td>\n",
              "      <td>1.285812</td>\n",
              "    </tr>\n",
              "    <tr>\n",
              "      <th>1</th>\n",
              "      <td>1.971484</td>\n",
              "      <td>1.665880</td>\n",
              "      <td>-1.022215</td>\n",
              "      <td>-1.021077</td>\n",
              "      <td>1.741886</td>\n",
              "      <td>1.582527</td>\n",
              "      <td>2.581804</td>\n",
              "      <td>1.418832</td>\n",
              "      <td>1.871873</td>\n",
              "      <td>0.075435</td>\n",
              "      <td>-0.341627</td>\n",
              "      <td>1.930005</td>\n",
              "      <td>0.699246</td>\n",
              "      <td>0.483650</td>\n",
              "      <td>1.666992</td>\n",
              "      <td>0.761694</td>\n",
              "      <td>-0.625417</td>\n",
              "      <td>0.746139</td>\n",
              "      <td>-0.28552</td>\n",
              "      <td>1.513434</td>\n",
              "      <td>1.804228</td>\n",
              "      <td>210.82</td>\n",
              "      <td>1.269614</td>\n",
              "      <td>1.269614</td>\n",
              "    </tr>\n",
              "    <tr>\n",
              "      <th>2</th>\n",
              "      <td>-0.947560</td>\n",
              "      <td>-0.831173</td>\n",
              "      <td>-0.419048</td>\n",
              "      <td>-0.362147</td>\n",
              "      <td>-0.427079</td>\n",
              "      <td>-0.427385</td>\n",
              "      <td>-0.985375</td>\n",
              "      <td>-1.301094</td>\n",
              "      <td>-1.288100</td>\n",
              "      <td>-0.888092</td>\n",
              "      <td>-1.322930</td>\n",
              "      <td>-0.736377</td>\n",
              "      <td>-0.580374</td>\n",
              "      <td>-1.167898</td>\n",
              "      <td>-0.830281</td>\n",
              "      <td>-1.257263</td>\n",
              "      <td>0.097039</td>\n",
              "      <td>-0.012778</td>\n",
              "      <td>-0.28552</td>\n",
              "      <td>-0.308179</td>\n",
              "      <td>-0.846470</td>\n",
              "      <td>195.58</td>\n",
              "      <td>-1.376063</td>\n",
              "      <td>-1.376063</td>\n",
              "    </tr>\n",
              "    <tr>\n",
              "      <th>3</th>\n",
              "      <td>0.209277</td>\n",
              "      <td>-0.157744</td>\n",
              "      <td>-1.066081</td>\n",
              "      <td>-1.003962</td>\n",
              "      <td>0.551208</td>\n",
              "      <td>0.739829</td>\n",
              "      <td>1.751411</td>\n",
              "      <td>1.380319</td>\n",
              "      <td>1.584933</td>\n",
              "      <td>-0.447330</td>\n",
              "      <td>-0.295985</td>\n",
              "      <td>2.333324</td>\n",
              "      <td>0.135743</td>\n",
              "      <td>0.604495</td>\n",
              "      <td>0.130549</td>\n",
              "      <td>1.764113</td>\n",
              "      <td>-1.517862</td>\n",
              "      <td>-0.333557</td>\n",
              "      <td>-0.28552</td>\n",
              "      <td>1.513434</td>\n",
              "      <td>0.820904</td>\n",
              "      <td>210.82</td>\n",
              "      <td>0.517306</td>\n",
              "      <td>0.517306</td>\n",
              "    </tr>\n",
              "    <tr>\n",
              "      <th>4</th>\n",
              "      <td>-0.230238</td>\n",
              "      <td>-0.131919</td>\n",
              "      <td>0.129285</td>\n",
              "      <td>0.215486</td>\n",
              "      <td>0.145734</td>\n",
              "      <td>0.022751</td>\n",
              "      <td>0.546758</td>\n",
              "      <td>1.409204</td>\n",
              "      <td>1.232614</td>\n",
              "      <td>-0.503706</td>\n",
              "      <td>0.343003</td>\n",
              "      <td>-0.131399</td>\n",
              "      <td>-0.357321</td>\n",
              "      <td>-0.147430</td>\n",
              "      <td>-0.111503</td>\n",
              "      <td>-0.452504</td>\n",
              "      <td>0.267029</td>\n",
              "      <td>0.902617</td>\n",
              "      <td>-0.28552</td>\n",
              "      <td>0.906229</td>\n",
              "      <td>0.094100</td>\n",
              "      <td>205.74</td>\n",
              "      <td>0.704483</td>\n",
              "      <td>0.704483</td>\n",
              "    </tr>\n",
              "    <tr>\n",
              "      <th>...</th>\n",
              "      <td>...</td>\n",
              "      <td>...</td>\n",
              "      <td>...</td>\n",
              "      <td>...</td>\n",
              "      <td>...</td>\n",
              "      <td>...</td>\n",
              "      <td>...</td>\n",
              "      <td>...</td>\n",
              "      <td>...</td>\n",
              "      <td>...</td>\n",
              "      <td>...</td>\n",
              "      <td>...</td>\n",
              "      <td>...</td>\n",
              "      <td>...</td>\n",
              "      <td>...</td>\n",
              "      <td>...</td>\n",
              "      <td>...</td>\n",
              "      <td>...</td>\n",
              "      <td>...</td>\n",
              "      <td>...</td>\n",
              "      <td>...</td>\n",
              "      <td>...</td>\n",
              "      <td>...</td>\n",
              "      <td>...</td>\n",
              "    </tr>\n",
              "    <tr>\n",
              "      <th>194</th>\n",
              "      <td>-1.250245</td>\n",
              "      <td>-1.274167</td>\n",
              "      <td>-0.967381</td>\n",
              "      <td>-1.012519</td>\n",
              "      <td>-0.845425</td>\n",
              "      <td>-0.861819</td>\n",
              "      <td>-0.540939</td>\n",
              "      <td>-1.233697</td>\n",
              "      <td>-1.099228</td>\n",
              "      <td>-1.005971</td>\n",
              "      <td>-1.208825</td>\n",
              "      <td>-0.736377</td>\n",
              "      <td>-1.049960</td>\n",
              "      <td>-1.651278</td>\n",
              "      <td>-1.212547</td>\n",
              "      <td>-0.141895</td>\n",
              "      <td>0.080040</td>\n",
              "      <td>-0.544802</td>\n",
              "      <td>-0.28552</td>\n",
              "      <td>0.602627</td>\n",
              "      <td>1.804228</td>\n",
              "      <td>195.58</td>\n",
              "      <td>-1.791813</td>\n",
              "      <td>-1.791813</td>\n",
              "    </tr>\n",
              "    <tr>\n",
              "      <th>195</th>\n",
              "      <td>0.740012</td>\n",
              "      <td>0.493835</td>\n",
              "      <td>-0.462915</td>\n",
              "      <td>-0.473395</td>\n",
              "      <td>-0.343410</td>\n",
              "      <td>-0.207551</td>\n",
              "      <td>1.704629</td>\n",
              "      <td>0.441584</td>\n",
              "      <td>0.862135</td>\n",
              "      <td>0.136937</td>\n",
              "      <td>1.917652</td>\n",
              "      <td>0.003040</td>\n",
              "      <td>0.394015</td>\n",
              "      <td>0.738767</td>\n",
              "      <td>0.385885</td>\n",
              "      <td>0.874642</td>\n",
              "      <td>0.318026</td>\n",
              "      <td>-0.842110</td>\n",
              "      <td>-0.28552</td>\n",
              "      <td>0.602627</td>\n",
              "      <td>0.136853</td>\n",
              "      <td>193.04</td>\n",
              "      <td>1.005046</td>\n",
              "      <td>1.005046</td>\n",
              "    </tr>\n",
              "    <tr>\n",
              "      <th>196</th>\n",
              "      <td>-0.039505</td>\n",
              "      <td>-0.292827</td>\n",
              "      <td>-1.153815</td>\n",
              "      <td>-1.243573</td>\n",
              "      <td>0.068501</td>\n",
              "      <td>0.038454</td>\n",
              "      <td>1.225106</td>\n",
              "      <td>0.508981</td>\n",
              "      <td>0.764066</td>\n",
              "      <td>-0.606209</td>\n",
              "      <td>-0.980615</td>\n",
              "      <td>0.899303</td>\n",
              "      <td>0.006607</td>\n",
              "      <td>0.631349</td>\n",
              "      <td>-0.166113</td>\n",
              "      <td>1.326437</td>\n",
              "      <td>-2.648294</td>\n",
              "      <td>0.394064</td>\n",
              "      <td>3.50238</td>\n",
              "      <td>-1.522587</td>\n",
              "      <td>0.949164</td>\n",
              "      <td>190.50</td>\n",
              "      <td>-0.411381</td>\n",
              "      <td>-0.411381</td>\n",
              "    </tr>\n",
              "    <tr>\n",
              "      <th>197</th>\n",
              "      <td>-1.167318</td>\n",
              "      <td>-1.151003</td>\n",
              "      <td>-0.824815</td>\n",
              "      <td>-0.845647</td>\n",
              "      <td>-0.755320</td>\n",
              "      <td>-0.819946</td>\n",
              "      <td>-0.786548</td>\n",
              "      <td>-0.853389</td>\n",
              "      <td>-0.888564</td>\n",
              "      <td>-0.657461</td>\n",
              "      <td>0.206077</td>\n",
              "      <td>-0.803597</td>\n",
              "      <td>-0.721250</td>\n",
              "      <td>-0.778509</td>\n",
              "      <td>-1.115136</td>\n",
              "      <td>-0.734875</td>\n",
              "      <td>0.080040</td>\n",
              "      <td>0.902617</td>\n",
              "      <td>-0.28552</td>\n",
              "      <td>0.299025</td>\n",
              "      <td>-1.402262</td>\n",
              "      <td>193.04</td>\n",
              "      <td>-0.882924</td>\n",
              "      <td>-0.882924</td>\n",
              "    </tr>\n",
              "    <tr>\n",
              "      <th>198</th>\n",
              "      <td>-0.304873</td>\n",
              "      <td>-0.316665</td>\n",
              "      <td>0.875019</td>\n",
              "      <td>0.660478</td>\n",
              "      <td>-0.131018</td>\n",
              "      <td>-0.149975</td>\n",
              "      <td>-0.318722</td>\n",
              "      <td>-0.126471</td>\n",
              "      <td>-0.198454</td>\n",
              "      <td>-0.642085</td>\n",
              "      <td>-0.341627</td>\n",
              "      <td>-0.400278</td>\n",
              "      <td>-0.357321</td>\n",
              "      <td>0.201678</td>\n",
              "      <td>-0.129214</td>\n",
              "      <td>0.041646</td>\n",
              "      <td>0.887491</td>\n",
              "      <td>0.292354</td>\n",
              "      <td>-0.28552</td>\n",
              "      <td>0.299025</td>\n",
              "      <td>0.094100</td>\n",
              "      <td>208.28</td>\n",
              "      <td>0.330129</td>\n",
              "      <td>0.330129</td>\n",
              "    </tr>\n",
              "  </tbody>\n",
              "</table>\n",
              "<p>199 rows × 24 columns</p>\n",
              "</div>"
            ],
            "text/plain": [
              "          fgm       fga      fg3m  ...  height (cm)  minutes/gm       sec\n",
              "0    0.963916  0.436225 -1.153815  ...       213.36    1.285812  1.285812\n",
              "1    1.971484  1.665880 -1.022215  ...       210.82    1.269614  1.269614\n",
              "2   -0.947560 -0.831173 -0.419048  ...       195.58   -1.376063 -1.376063\n",
              "3    0.209277 -0.157744 -1.066081  ...       210.82    0.517306  0.517306\n",
              "4   -0.230238 -0.131919  0.129285  ...       205.74    0.704483  0.704483\n",
              "..        ...       ...       ...  ...          ...         ...       ...\n",
              "194 -1.250245 -1.274167 -0.967381  ...       195.58   -1.791813 -1.791813\n",
              "195  0.740012  0.493835 -0.462915  ...       193.04    1.005046  1.005046\n",
              "196 -0.039505 -0.292827 -1.153815  ...       190.50   -0.411381 -0.411381\n",
              "197 -1.167318 -1.151003 -0.824815  ...       193.04   -0.882924 -0.882924\n",
              "198 -0.304873 -0.316665  0.875019  ...       208.28    0.330129  0.330129\n",
              "\n",
              "[199 rows x 24 columns]"
            ]
          },
          "metadata": {
            "tags": []
          },
          "execution_count": 35
        }
      ]
    },
    {
      "cell_type": "code",
      "metadata": {
        "id": "eDHCyffyCmqE",
        "colab_type": "code",
        "outputId": "2c3f1987-a574-4274-9b00-87c6be705a17",
        "colab": {
          "base_uri": "https://localhost:8080/",
          "height": 456
        }
      },
      "source": [
        "df_copy_st[\"reb*pts\"] = np.abs(df_copy_st[\"reb\"] * df_copy_st[\"pts\"])\n",
        "df_copy_st[\"reb*fg_pct\"] = np.abs(df_copy_st[\"reb\"] * df_copy_st[\"fg_pct\"])\n",
        "df_copy_st[\"reb*blk\"] = np.abs(df_copy_st[\"reb\"] * df_copy_st[\"blk\"])\n",
        "df_copy_st"
      ],
      "execution_count": 0,
      "outputs": [
        {
          "output_type": "execute_result",
          "data": {
            "text/html": [
              "<div>\n",
              "<style scoped>\n",
              "    .dataframe tbody tr th:only-of-type {\n",
              "        vertical-align: middle;\n",
              "    }\n",
              "\n",
              "    .dataframe tbody tr th {\n",
              "        vertical-align: top;\n",
              "    }\n",
              "\n",
              "    .dataframe thead th {\n",
              "        text-align: right;\n",
              "    }\n",
              "</style>\n",
              "<table border=\"1\" class=\"dataframe\">\n",
              "  <thead>\n",
              "    <tr style=\"text-align: right;\">\n",
              "      <th></th>\n",
              "      <th>fgm</th>\n",
              "      <th>fga</th>\n",
              "      <th>fg3m</th>\n",
              "      <th>fg3a</th>\n",
              "      <th>ftm</th>\n",
              "      <th>fta</th>\n",
              "      <th>oreb</th>\n",
              "      <th>dreb</th>\n",
              "      <th>reb</th>\n",
              "      <th>ast</th>\n",
              "      <th>stl</th>\n",
              "      <th>blk</th>\n",
              "      <th>turnover</th>\n",
              "      <th>pf</th>\n",
              "      <th>pts</th>\n",
              "      <th>fg_pct</th>\n",
              "      <th>fg3_pct</th>\n",
              "      <th>ft_pct</th>\n",
              "      <th>player_height_ft</th>\n",
              "      <th>player_height_in</th>\n",
              "      <th>player_weight</th>\n",
              "      <th>height (cm)</th>\n",
              "      <th>minutes/gm</th>\n",
              "      <th>sec</th>\n",
              "      <th>reb*pts</th>\n",
              "      <th>reb*fg_pct</th>\n",
              "      <th>reb*blk</th>\n",
              "    </tr>\n",
              "  </thead>\n",
              "  <tbody>\n",
              "    <tr>\n",
              "      <th>0</th>\n",
              "      <td>0.963916</td>\n",
              "      <td>0.436225</td>\n",
              "      <td>-1.153815</td>\n",
              "      <td>-1.230736</td>\n",
              "      <td>0.145734</td>\n",
              "      <td>0.828810</td>\n",
              "      <td>4.663632</td>\n",
              "      <td>0.706356</td>\n",
              "      <td>1.980838</td>\n",
              "      <td>-0.360202</td>\n",
              "      <td>1.826368</td>\n",
              "      <td>1.100962</td>\n",
              "      <td>0.617068</td>\n",
              "      <td>0.940175</td>\n",
              "      <td>0.564473</td>\n",
              "      <td>1.848824</td>\n",
              "      <td>-2.648294</td>\n",
              "      <td>-1.968750</td>\n",
              "      <td>3.50238</td>\n",
              "      <td>-1.826189</td>\n",
              "      <td>2.017994</td>\n",
              "      <td>213.36</td>\n",
              "      <td>1.285812</td>\n",
              "      <td>1.285812</td>\n",
              "      <td>1.118129</td>\n",
              "      <td>3.662221</td>\n",
              "      <td>2.180827</td>\n",
              "    </tr>\n",
              "    <tr>\n",
              "      <th>1</th>\n",
              "      <td>1.971484</td>\n",
              "      <td>1.665880</td>\n",
              "      <td>-1.022215</td>\n",
              "      <td>-1.021077</td>\n",
              "      <td>1.741886</td>\n",
              "      <td>1.582527</td>\n",
              "      <td>2.581804</td>\n",
              "      <td>1.418832</td>\n",
              "      <td>1.871873</td>\n",
              "      <td>0.075435</td>\n",
              "      <td>-0.341627</td>\n",
              "      <td>1.930005</td>\n",
              "      <td>0.699246</td>\n",
              "      <td>0.483650</td>\n",
              "      <td>1.666992</td>\n",
              "      <td>0.761694</td>\n",
              "      <td>-0.625417</td>\n",
              "      <td>0.746139</td>\n",
              "      <td>-0.28552</td>\n",
              "      <td>1.513434</td>\n",
              "      <td>1.804228</td>\n",
              "      <td>210.82</td>\n",
              "      <td>1.269614</td>\n",
              "      <td>1.269614</td>\n",
              "      <td>3.120399</td>\n",
              "      <td>1.425794</td>\n",
              "      <td>3.612725</td>\n",
              "    </tr>\n",
              "    <tr>\n",
              "      <th>2</th>\n",
              "      <td>-0.947560</td>\n",
              "      <td>-0.831173</td>\n",
              "      <td>-0.419048</td>\n",
              "      <td>-0.362147</td>\n",
              "      <td>-0.427079</td>\n",
              "      <td>-0.427385</td>\n",
              "      <td>-0.985375</td>\n",
              "      <td>-1.301094</td>\n",
              "      <td>-1.288100</td>\n",
              "      <td>-0.888092</td>\n",
              "      <td>-1.322930</td>\n",
              "      <td>-0.736377</td>\n",
              "      <td>-0.580374</td>\n",
              "      <td>-1.167898</td>\n",
              "      <td>-0.830281</td>\n",
              "      <td>-1.257263</td>\n",
              "      <td>0.097039</td>\n",
              "      <td>-0.012778</td>\n",
              "      <td>-0.28552</td>\n",
              "      <td>-0.308179</td>\n",
              "      <td>-0.846470</td>\n",
              "      <td>195.58</td>\n",
              "      <td>-1.376063</td>\n",
              "      <td>-1.376063</td>\n",
              "      <td>1.069485</td>\n",
              "      <td>1.619481</td>\n",
              "      <td>0.948527</td>\n",
              "    </tr>\n",
              "    <tr>\n",
              "      <th>3</th>\n",
              "      <td>0.209277</td>\n",
              "      <td>-0.157744</td>\n",
              "      <td>-1.066081</td>\n",
              "      <td>-1.003962</td>\n",
              "      <td>0.551208</td>\n",
              "      <td>0.739829</td>\n",
              "      <td>1.751411</td>\n",
              "      <td>1.380319</td>\n",
              "      <td>1.584933</td>\n",
              "      <td>-0.447330</td>\n",
              "      <td>-0.295985</td>\n",
              "      <td>2.333324</td>\n",
              "      <td>0.135743</td>\n",
              "      <td>0.604495</td>\n",
              "      <td>0.130549</td>\n",
              "      <td>1.764113</td>\n",
              "      <td>-1.517862</td>\n",
              "      <td>-0.333557</td>\n",
              "      <td>-0.28552</td>\n",
              "      <td>1.513434</td>\n",
              "      <td>0.820904</td>\n",
              "      <td>210.82</td>\n",
              "      <td>0.517306</td>\n",
              "      <td>0.517306</td>\n",
              "      <td>0.206912</td>\n",
              "      <td>2.796000</td>\n",
              "      <td>3.698162</td>\n",
              "    </tr>\n",
              "    <tr>\n",
              "      <th>4</th>\n",
              "      <td>-0.230238</td>\n",
              "      <td>-0.131919</td>\n",
              "      <td>0.129285</td>\n",
              "      <td>0.215486</td>\n",
              "      <td>0.145734</td>\n",
              "      <td>0.022751</td>\n",
              "      <td>0.546758</td>\n",
              "      <td>1.409204</td>\n",
              "      <td>1.232614</td>\n",
              "      <td>-0.503706</td>\n",
              "      <td>0.343003</td>\n",
              "      <td>-0.131399</td>\n",
              "      <td>-0.357321</td>\n",
              "      <td>-0.147430</td>\n",
              "      <td>-0.111503</td>\n",
              "      <td>-0.452504</td>\n",
              "      <td>0.267029</td>\n",
              "      <td>0.902617</td>\n",
              "      <td>-0.28552</td>\n",
              "      <td>0.906229</td>\n",
              "      <td>0.094100</td>\n",
              "      <td>205.74</td>\n",
              "      <td>0.704483</td>\n",
              "      <td>0.704483</td>\n",
              "      <td>0.137440</td>\n",
              "      <td>0.557763</td>\n",
              "      <td>0.161965</td>\n",
              "    </tr>\n",
              "    <tr>\n",
              "      <th>...</th>\n",
              "      <td>...</td>\n",
              "      <td>...</td>\n",
              "      <td>...</td>\n",
              "      <td>...</td>\n",
              "      <td>...</td>\n",
              "      <td>...</td>\n",
              "      <td>...</td>\n",
              "      <td>...</td>\n",
              "      <td>...</td>\n",
              "      <td>...</td>\n",
              "      <td>...</td>\n",
              "      <td>...</td>\n",
              "      <td>...</td>\n",
              "      <td>...</td>\n",
              "      <td>...</td>\n",
              "      <td>...</td>\n",
              "      <td>...</td>\n",
              "      <td>...</td>\n",
              "      <td>...</td>\n",
              "      <td>...</td>\n",
              "      <td>...</td>\n",
              "      <td>...</td>\n",
              "      <td>...</td>\n",
              "      <td>...</td>\n",
              "      <td>...</td>\n",
              "      <td>...</td>\n",
              "      <td>...</td>\n",
              "    </tr>\n",
              "    <tr>\n",
              "      <th>194</th>\n",
              "      <td>-1.250245</td>\n",
              "      <td>-1.274167</td>\n",
              "      <td>-0.967381</td>\n",
              "      <td>-1.012519</td>\n",
              "      <td>-0.845425</td>\n",
              "      <td>-0.861819</td>\n",
              "      <td>-0.540939</td>\n",
              "      <td>-1.233697</td>\n",
              "      <td>-1.099228</td>\n",
              "      <td>-1.005971</td>\n",
              "      <td>-1.208825</td>\n",
              "      <td>-0.736377</td>\n",
              "      <td>-1.049960</td>\n",
              "      <td>-1.651278</td>\n",
              "      <td>-1.212547</td>\n",
              "      <td>-0.141895</td>\n",
              "      <td>0.080040</td>\n",
              "      <td>-0.544802</td>\n",
              "      <td>-0.28552</td>\n",
              "      <td>0.602627</td>\n",
              "      <td>1.804228</td>\n",
              "      <td>195.58</td>\n",
              "      <td>-1.791813</td>\n",
              "      <td>-1.791813</td>\n",
              "      <td>1.332866</td>\n",
              "      <td>0.155975</td>\n",
              "      <td>0.809446</td>\n",
              "    </tr>\n",
              "    <tr>\n",
              "      <th>195</th>\n",
              "      <td>0.740012</td>\n",
              "      <td>0.493835</td>\n",
              "      <td>-0.462915</td>\n",
              "      <td>-0.473395</td>\n",
              "      <td>-0.343410</td>\n",
              "      <td>-0.207551</td>\n",
              "      <td>1.704629</td>\n",
              "      <td>0.441584</td>\n",
              "      <td>0.862135</td>\n",
              "      <td>0.136937</td>\n",
              "      <td>1.917652</td>\n",
              "      <td>0.003040</td>\n",
              "      <td>0.394015</td>\n",
              "      <td>0.738767</td>\n",
              "      <td>0.385885</td>\n",
              "      <td>0.874642</td>\n",
              "      <td>0.318026</td>\n",
              "      <td>-0.842110</td>\n",
              "      <td>-0.28552</td>\n",
              "      <td>0.602627</td>\n",
              "      <td>0.136853</td>\n",
              "      <td>193.04</td>\n",
              "      <td>1.005046</td>\n",
              "      <td>1.005046</td>\n",
              "      <td>0.332685</td>\n",
              "      <td>0.754059</td>\n",
              "      <td>0.002621</td>\n",
              "    </tr>\n",
              "    <tr>\n",
              "      <th>196</th>\n",
              "      <td>-0.039505</td>\n",
              "      <td>-0.292827</td>\n",
              "      <td>-1.153815</td>\n",
              "      <td>-1.243573</td>\n",
              "      <td>0.068501</td>\n",
              "      <td>0.038454</td>\n",
              "      <td>1.225106</td>\n",
              "      <td>0.508981</td>\n",
              "      <td>0.764066</td>\n",
              "      <td>-0.606209</td>\n",
              "      <td>-0.980615</td>\n",
              "      <td>0.899303</td>\n",
              "      <td>0.006607</td>\n",
              "      <td>0.631349</td>\n",
              "      <td>-0.166113</td>\n",
              "      <td>1.326437</td>\n",
              "      <td>-2.648294</td>\n",
              "      <td>0.394064</td>\n",
              "      <td>3.50238</td>\n",
              "      <td>-1.522587</td>\n",
              "      <td>0.949164</td>\n",
              "      <td>190.50</td>\n",
              "      <td>-0.411381</td>\n",
              "      <td>-0.411381</td>\n",
              "      <td>0.126921</td>\n",
              "      <td>1.013486</td>\n",
              "      <td>0.687127</td>\n",
              "    </tr>\n",
              "    <tr>\n",
              "      <th>197</th>\n",
              "      <td>-1.167318</td>\n",
              "      <td>-1.151003</td>\n",
              "      <td>-0.824815</td>\n",
              "      <td>-0.845647</td>\n",
              "      <td>-0.755320</td>\n",
              "      <td>-0.819946</td>\n",
              "      <td>-0.786548</td>\n",
              "      <td>-0.853389</td>\n",
              "      <td>-0.888564</td>\n",
              "      <td>-0.657461</td>\n",
              "      <td>0.206077</td>\n",
              "      <td>-0.803597</td>\n",
              "      <td>-0.721250</td>\n",
              "      <td>-0.778509</td>\n",
              "      <td>-1.115136</td>\n",
              "      <td>-0.734875</td>\n",
              "      <td>0.080040</td>\n",
              "      <td>0.902617</td>\n",
              "      <td>-0.28552</td>\n",
              "      <td>0.299025</td>\n",
              "      <td>-1.402262</td>\n",
              "      <td>193.04</td>\n",
              "      <td>-0.882924</td>\n",
              "      <td>-0.882924</td>\n",
              "      <td>0.990869</td>\n",
              "      <td>0.652983</td>\n",
              "      <td>0.714047</td>\n",
              "    </tr>\n",
              "    <tr>\n",
              "      <th>198</th>\n",
              "      <td>-0.304873</td>\n",
              "      <td>-0.316665</td>\n",
              "      <td>0.875019</td>\n",
              "      <td>0.660478</td>\n",
              "      <td>-0.131018</td>\n",
              "      <td>-0.149975</td>\n",
              "      <td>-0.318722</td>\n",
              "      <td>-0.126471</td>\n",
              "      <td>-0.198454</td>\n",
              "      <td>-0.642085</td>\n",
              "      <td>-0.341627</td>\n",
              "      <td>-0.400278</td>\n",
              "      <td>-0.357321</td>\n",
              "      <td>0.201678</td>\n",
              "      <td>-0.129214</td>\n",
              "      <td>0.041646</td>\n",
              "      <td>0.887491</td>\n",
              "      <td>0.292354</td>\n",
              "      <td>-0.28552</td>\n",
              "      <td>0.299025</td>\n",
              "      <td>0.094100</td>\n",
              "      <td>208.28</td>\n",
              "      <td>0.330129</td>\n",
              "      <td>0.330129</td>\n",
              "      <td>0.025643</td>\n",
              "      <td>0.008265</td>\n",
              "      <td>0.079437</td>\n",
              "    </tr>\n",
              "  </tbody>\n",
              "</table>\n",
              "<p>199 rows × 27 columns</p>\n",
              "</div>"
            ],
            "text/plain": [
              "          fgm       fga      fg3m  ...   reb*pts  reb*fg_pct   reb*blk\n",
              "0    0.963916  0.436225 -1.153815  ...  1.118129    3.662221  2.180827\n",
              "1    1.971484  1.665880 -1.022215  ...  3.120399    1.425794  3.612725\n",
              "2   -0.947560 -0.831173 -0.419048  ...  1.069485    1.619481  0.948527\n",
              "3    0.209277 -0.157744 -1.066081  ...  0.206912    2.796000  3.698162\n",
              "4   -0.230238 -0.131919  0.129285  ...  0.137440    0.557763  0.161965\n",
              "..        ...       ...       ...  ...       ...         ...       ...\n",
              "194 -1.250245 -1.274167 -0.967381  ...  1.332866    0.155975  0.809446\n",
              "195  0.740012  0.493835 -0.462915  ...  0.332685    0.754059  0.002621\n",
              "196 -0.039505 -0.292827 -1.153815  ...  0.126921    1.013486  0.687127\n",
              "197 -1.167318 -1.151003 -0.824815  ...  0.990869    0.652983  0.714047\n",
              "198 -0.304873 -0.316665  0.875019  ...  0.025643    0.008265  0.079437\n",
              "\n",
              "[199 rows x 27 columns]"
            ]
          },
          "metadata": {
            "tags": []
          },
          "execution_count": 36
        }
      ]
    },
    {
      "cell_type": "code",
      "metadata": {
        "id": "I10lwL26zXYy",
        "colab_type": "code",
        "outputId": "04702aa6-5a5b-48e9-da74-56c60596ba7e",
        "colab": {
          "base_uri": "https://localhost:8080/",
          "height": 170
        }
      },
      "source": [
        "df_avgs.groupby(\"player_position\")[\"height (cm)\"].corr(df_avgs_per_min[\"pts\"])"
      ],
      "execution_count": 0,
      "outputs": [
        {
          "output_type": "execute_result",
          "data": {
            "text/plain": [
              "player_position\n",
              "C      0.382895\n",
              "C-F    0.380836\n",
              "F      0.351854\n",
              "F-C   -0.335430\n",
              "F-G   -1.000000\n",
              "G     -0.040080\n",
              "G-F    0.519068\n",
              "Name: height (cm), dtype: float64"
            ]
          },
          "metadata": {
            "tags": []
          },
          "execution_count": 37
        }
      ]
    },
    {
      "cell_type": "code",
      "metadata": {
        "id": "tSSN0bQcxzqQ",
        "colab_type": "code",
        "outputId": "14807470-f167-4f8e-d3ce-68f6f732e800",
        "colab": {
          "base_uri": "https://localhost:8080/",
          "height": 296
        }
      },
      "source": [
        "df_copy_st.plot.scatter(x=\"height (cm)\", y=\"reb*pts\")\n",
        "df_copy_st[\"height (cm)\"].corr(df_copy_st[\"reb*pts\"])"
      ],
      "execution_count": 0,
      "outputs": [
        {
          "output_type": "execute_result",
          "data": {
            "text/plain": [
              "0.15942668656404685"
            ]
          },
          "metadata": {
            "tags": []
          },
          "execution_count": 38
        },
        {
          "output_type": "display_data",
          "data": {
            "image/png": "[encoded data removed]",
            "text/plain": [
              "<Figure size 432x288 with 1 Axes>"
            ]
          },
          "metadata": {
            "tags": []
          }
        }
      ]
    },
    {
      "cell_type": "code",
      "metadata": {
        "id": "UBAoBr9uRwUE",
        "colab_type": "code",
        "outputId": "10e903f3-f944-4162-8ab8-484075a2c8ad",
        "colab": {
          "base_uri": "https://localhost:8080/",
          "height": 493
        }
      },
      "source": [
        "df_copy_st.corr()[\"height (cm)\"].sort_values()"
      ],
      "execution_count": 0,
      "outputs": [
        {
          "output_type": "execute_result",
          "data": {
            "text/plain": [
              "pf                 -0.038125\n",
              "fg3_pct            -0.006912\n",
              "ft_pct             -0.001236\n",
              "player_weight       0.002860\n",
              "player_height_in    0.016752\n",
              "fg3m                0.019225\n",
              "fg3a                0.032362\n",
              "fg_pct              0.037604\n",
              "player_height_ft    0.050721\n",
              "blk                 0.054031\n",
              "oreb                0.059186\n",
              "reb*fg_pct          0.064412\n",
              "stl                 0.070658\n",
              "dreb                0.074215\n",
              "reb                 0.074403\n",
              "minutes/gm          0.077808\n",
              "sec                 0.077808\n",
              "reb*blk             0.078958\n",
              "ast                 0.079308\n",
              "turnover            0.098264\n",
              "fga                 0.108513\n",
              "fgm                 0.116654\n",
              "pts                 0.122293\n",
              "ftm                 0.158794\n",
              "reb*pts             0.159427\n",
              "fta                 0.160682\n",
              "height (cm)         1.000000\n",
              "Name: height (cm), dtype: float64"
            ]
          },
          "metadata": {
            "tags": []
          },
          "execution_count": 39
        }
      ]
    }
  ]
}